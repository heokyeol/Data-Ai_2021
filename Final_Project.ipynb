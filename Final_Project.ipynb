{
  "nbformat": 4,
  "nbformat_minor": 0,
  "metadata": {
    "kernelspec": {
      "display_name": "Python 3",
      "language": "python",
      "name": "python3"
    },
    "colab": {
      "name": "Final Project",
      "provenance": [],
      "collapsed_sections": [],
      "toc_visible": true,
      "include_colab_link": true
    },
    "accelerator": "GPU",
    "widgets": {
      "application/vnd.jupyter.widget-state+json": {
        "c15b5de06a28477588147cf3ed3c80e3": {
          "model_module": "@jupyter-widgets/controls",
          "model_name": "HBoxModel",
          "state": {
            "_view_name": "HBoxView",
            "_dom_classes": [],
            "_model_name": "HBoxModel",
            "_view_module": "@jupyter-widgets/controls",
            "_model_module_version": "1.5.0",
            "_view_count": null,
            "_view_module_version": "1.5.0",
            "box_style": "",
            "layout": "IPY_MODEL_af64f95b7d9c492b8e8d10ced0cd5ae2",
            "_model_module": "@jupyter-widgets/controls",
            "children": [
              "IPY_MODEL_8dd5e98445ae41d7a04a06e809094d69",
              "IPY_MODEL_36cd0033fd5549328e5400d9be4542f0"
            ]
          }
        },
        "af64f95b7d9c492b8e8d10ced0cd5ae2": {
          "model_module": "@jupyter-widgets/base",
          "model_name": "LayoutModel",
          "state": {
            "_view_name": "LayoutView",
            "grid_template_rows": null,
            "right": null,
            "justify_content": null,
            "_view_module": "@jupyter-widgets/base",
            "overflow": null,
            "_model_module_version": "1.2.0",
            "_view_count": null,
            "flex_flow": null,
            "width": null,
            "min_width": null,
            "border": null,
            "align_items": null,
            "bottom": null,
            "_model_module": "@jupyter-widgets/base",
            "top": null,
            "grid_column": null,
            "overflow_y": null,
            "overflow_x": null,
            "grid_auto_flow": null,
            "grid_area": null,
            "grid_template_columns": null,
            "flex": null,
            "_model_name": "LayoutModel",
            "justify_items": null,
            "grid_row": null,
            "max_height": null,
            "align_content": null,
            "visibility": null,
            "align_self": null,
            "height": null,
            "min_height": null,
            "padding": null,
            "grid_auto_rows": null,
            "grid_gap": null,
            "max_width": null,
            "order": null,
            "_view_module_version": "1.2.0",
            "grid_template_areas": null,
            "object_position": null,
            "object_fit": null,
            "grid_auto_columns": null,
            "margin": null,
            "display": null,
            "left": null
          }
        },
        "8dd5e98445ae41d7a04a06e809094d69": {
          "model_module": "@jupyter-widgets/controls",
          "model_name": "FloatProgressModel",
          "state": {
            "_view_name": "ProgressView",
            "style": "IPY_MODEL_580f21750c2747199fc9f35152645941",
            "_dom_classes": [],
            "description": "100%",
            "_model_name": "FloatProgressModel",
            "bar_style": "success",
            "max": 87306240,
            "_view_module": "@jupyter-widgets/controls",
            "_model_module_version": "1.5.0",
            "value": 87306240,
            "_view_count": null,
            "_view_module_version": "1.5.0",
            "orientation": "horizontal",
            "min": 0,
            "description_tooltip": null,
            "_model_module": "@jupyter-widgets/controls",
            "layout": "IPY_MODEL_fc8242d2bfb8469ca999b7b8df850014"
          }
        },
        "36cd0033fd5549328e5400d9be4542f0": {
          "model_module": "@jupyter-widgets/controls",
          "model_name": "HTMLModel",
          "state": {
            "_view_name": "HTMLView",
            "style": "IPY_MODEL_5d9ecbbf2b2d498982adb9b5dd45bc18",
            "_dom_classes": [],
            "description": "",
            "_model_name": "HTMLModel",
            "placeholder": "​",
            "_view_module": "@jupyter-widgets/controls",
            "_model_module_version": "1.5.0",
            "value": " 83.3M/83.3M [00:17&lt;00:00, 4.95MB/s]",
            "_view_count": null,
            "_view_module_version": "1.5.0",
            "description_tooltip": null,
            "_model_module": "@jupyter-widgets/controls",
            "layout": "IPY_MODEL_0befd340bceb4a7fa3323b8a6e00c617"
          }
        },
        "580f21750c2747199fc9f35152645941": {
          "model_module": "@jupyter-widgets/controls",
          "model_name": "ProgressStyleModel",
          "state": {
            "_view_name": "StyleView",
            "_model_name": "ProgressStyleModel",
            "description_width": "initial",
            "_view_module": "@jupyter-widgets/base",
            "_model_module_version": "1.5.0",
            "_view_count": null,
            "_view_module_version": "1.2.0",
            "bar_color": null,
            "_model_module": "@jupyter-widgets/controls"
          }
        },
        "fc8242d2bfb8469ca999b7b8df850014": {
          "model_module": "@jupyter-widgets/base",
          "model_name": "LayoutModel",
          "state": {
            "_view_name": "LayoutView",
            "grid_template_rows": null,
            "right": null,
            "justify_content": null,
            "_view_module": "@jupyter-widgets/base",
            "overflow": null,
            "_model_module_version": "1.2.0",
            "_view_count": null,
            "flex_flow": null,
            "width": null,
            "min_width": null,
            "border": null,
            "align_items": null,
            "bottom": null,
            "_model_module": "@jupyter-widgets/base",
            "top": null,
            "grid_column": null,
            "overflow_y": null,
            "overflow_x": null,
            "grid_auto_flow": null,
            "grid_area": null,
            "grid_template_columns": null,
            "flex": null,
            "_model_name": "LayoutModel",
            "justify_items": null,
            "grid_row": null,
            "max_height": null,
            "align_content": null,
            "visibility": null,
            "align_self": null,
            "height": null,
            "min_height": null,
            "padding": null,
            "grid_auto_rows": null,
            "grid_gap": null,
            "max_width": null,
            "order": null,
            "_view_module_version": "1.2.0",
            "grid_template_areas": null,
            "object_position": null,
            "object_fit": null,
            "grid_auto_columns": null,
            "margin": null,
            "display": null,
            "left": null
          }
        },
        "5d9ecbbf2b2d498982adb9b5dd45bc18": {
          "model_module": "@jupyter-widgets/controls",
          "model_name": "DescriptionStyleModel",
          "state": {
            "_view_name": "StyleView",
            "_model_name": "DescriptionStyleModel",
            "description_width": "",
            "_view_module": "@jupyter-widgets/base",
            "_model_module_version": "1.5.0",
            "_view_count": null,
            "_view_module_version": "1.2.0",
            "_model_module": "@jupyter-widgets/controls"
          }
        },
        "0befd340bceb4a7fa3323b8a6e00c617": {
          "model_module": "@jupyter-widgets/base",
          "model_name": "LayoutModel",
          "state": {
            "_view_name": "LayoutView",
            "grid_template_rows": null,
            "right": null,
            "justify_content": null,
            "_view_module": "@jupyter-widgets/base",
            "overflow": null,
            "_model_module_version": "1.2.0",
            "_view_count": null,
            "flex_flow": null,
            "width": null,
            "min_width": null,
            "border": null,
            "align_items": null,
            "bottom": null,
            "_model_module": "@jupyter-widgets/base",
            "top": null,
            "grid_column": null,
            "overflow_y": null,
            "overflow_x": null,
            "grid_auto_flow": null,
            "grid_area": null,
            "grid_template_columns": null,
            "flex": null,
            "_model_name": "LayoutModel",
            "justify_items": null,
            "grid_row": null,
            "max_height": null,
            "align_content": null,
            "visibility": null,
            "align_self": null,
            "height": null,
            "min_height": null,
            "padding": null,
            "grid_auto_rows": null,
            "grid_gap": null,
            "max_width": null,
            "order": null,
            "_view_module_version": "1.2.0",
            "grid_template_areas": null,
            "object_position": null,
            "object_fit": null,
            "grid_auto_columns": null,
            "margin": null,
            "display": null,
            "left": null
          }
        }
      }
    }
  },
  "cells": [
    {
      "cell_type": "markdown",
      "metadata": {
        "id": "view-in-github",
        "colab_type": "text"
      },
      "source": [
        "<a href=\"https://colab.research.google.com/github/heokyeol/audrey21/blob/master/Final_Project.ipynb\" target=\"_parent\"><img src=\"https://colab.research.google.com/assets/colab-badge.svg\" alt=\"Open In Colab\"/></a>"
      ]
    },
    {
      "cell_type": "markdown",
      "metadata": {
        "id": "JRRuy-0pRVXi"
      },
      "source": [
        "# **Push-up Manager App**\n"
      ]
    },
    {
      "cell_type": "markdown",
      "metadata": {
        "id": "a1UdLnlkRJIK"
      },
      "source": [
        "We created an app that can assist users with push-ups using Fastai Vision's image classification. The model outputs the number of exercising, the operating time of each set and the total exercise time through the user's push-up video. The model is trained to distinguish the up-down position of the push-up. The input video is dataized by dividing all frames into images. Each frame is classified as 'Up' or 'Down' through the model and each prediction and probability is stored in the list. By using this list, the model determines the final output. The number of times is counted by the distribution plot and the time by the number of frames."
      ]
    },
    {
      "cell_type": "code",
      "metadata": {
        "id": "70l8UByagkJY",
        "colab": {
          "base_uri": "https://localhost:8080/"
        },
        "outputId": "477652b3-4613-4a6e-e733-f1ac2bc63980"
      },
      "source": [
        "from google.colab import drive\n",
        "drive.mount('/content/drive')"
      ],
      "execution_count": 2,
      "outputs": [
        {
          "output_type": "stream",
          "text": [
            "Mounted at /content/drive\n"
          ],
          "name": "stdout"
        }
      ]
    },
    {
      "cell_type": "code",
      "metadata": {
        "id": "WQfenwZ_QzzD"
      },
      "source": [
        "import cv2\n",
        "from fastai.vision import *\n",
        "from matplotlib import pyplot as plt\n",
        "import numpy as np"
      ],
      "execution_count": 3,
      "outputs": []
    },
    {
      "cell_type": "markdown",
      "metadata": {
        "id": "ReRQEtQv4y1R"
      },
      "source": [
        "## Frame extraction"
      ]
    },
    {
      "cell_type": "code",
      "metadata": {
        "id": "q_ALnmrP-L80"
      },
      "source": [
        "vname = 'Video1.mp4'\n",
        "v_path = ('/content/drive/MyDrive/dna/push-up dataset/video/%s'%vname)\n",
        "f_path=('/content/drive/MyDrive/dna/push-up dataset/frames/%s'%vname)\n",
        "path = Path(f_path)\n",
        "path.mkdir(exist_ok=True)\n",
        "\n",
        "# Specify the video to be analyzed in vname.\n",
        "# Specify the path of video and folder. \n",
        "# v_path : Path of input video\n",
        "# f_paty : Path where the imaged will be stored"
      ],
      "execution_count": 69,
      "outputs": []
    },
    {
      "cell_type": "code",
      "metadata": {
        "id": "rLxpvQNkzMuF"
      },
      "source": [
        "vidcap = cv2.VideoCapture(v_path)\n",
        "count = 0\n",
        "while(vidcap.isOpened()):\n",
        "    ret, image = vidcap.read()\n",
        "    if np.any(image) == None : break\n",
        "    cv2.imwrite('%s/frame%d.jpg'%(path,count), image)\n",
        "    count += 1\n",
        "vidcap.release()\n",
        "\n",
        "# extract all the frames from the video"
      ],
      "execution_count": 70,
      "outputs": []
    },
    {
      "cell_type": "markdown",
      "metadata": {
        "id": "FPDrH-W-5CRt"
      },
      "source": [
        "## Class specification"
      ]
    },
    {
      "cell_type": "code",
      "metadata": {
        "id": "GX1GvG_lgHQl"
      },
      "source": [
        "path = Path('drive/MyDrive/dna/push-up dataset/updown')\n",
        "\n",
        "# Path of dataset\n",
        "# Dataset is made up with about 200 \"up\" and \"down\" position images."
      ],
      "execution_count": 71,
      "outputs": []
    },
    {
      "cell_type": "code",
      "metadata": {
        "id": "t7WQGjeKgHQl"
      },
      "source": [
        "classes = ['up','down']"
      ],
      "execution_count": 73,
      "outputs": []
    },
    {
      "cell_type": "code",
      "metadata": {
        "id": "UiaSKbAJgHQm",
        "colab": {
          "base_uri": "https://localhost:8080/",
          "height": 51
        },
        "outputId": "4825c38d-854f-4f28-bb5e-be0a80e3460f"
      },
      "source": [
        "for c in classes:\n",
        "    print(c)\n",
        "    verify_images(path/c, delete=True, max_size=500)"
      ],
      "execution_count": 74,
      "outputs": [
        {
          "output_type": "stream",
          "text": [
            "up\n"
          ],
          "name": "stdout"
        },
        {
          "output_type": "display_data",
          "data": {
            "text/html": [
              ""
            ],
            "text/plain": [
              "<IPython.core.display.HTML object>"
            ]
          },
          "metadata": {
            "tags": []
          }
        },
        {
          "output_type": "stream",
          "text": [
            "down\n"
          ],
          "name": "stdout"
        },
        {
          "output_type": "display_data",
          "data": {
            "text/html": [
              ""
            ],
            "text/plain": [
              "<IPython.core.display.HTML object>"
            ]
          },
          "metadata": {
            "tags": []
          }
        }
      ]
    },
    {
      "cell_type": "code",
      "metadata": {
        "id": "i8_1Sq2agHQm"
      },
      "source": [
        "np.random.seed(42)\n",
        "data = ImageDataBunch.from_folder(path, train=\".\", valid_pct=0.2,\n",
        "        ds_tfms=get_transforms(), size=224, num_workers=4).normalize(imagenet_stats)"
      ],
      "execution_count": 75,
      "outputs": []
    },
    {
      "cell_type": "markdown",
      "metadata": {
        "id": "Qx9n8UmMgHQn"
      },
      "source": [
        "## Training the model"
      ]
    },
    {
      "cell_type": "code",
      "metadata": {
        "id": "K7AWVfB5gHQn",
        "colab": {
          "base_uri": "https://localhost:8080/",
          "height": 103,
          "referenced_widgets": [
            "c15b5de06a28477588147cf3ed3c80e3",
            "af64f95b7d9c492b8e8d10ced0cd5ae2",
            "8dd5e98445ae41d7a04a06e809094d69",
            "36cd0033fd5549328e5400d9be4542f0",
            "580f21750c2747199fc9f35152645941",
            "fc8242d2bfb8469ca999b7b8df850014",
            "5d9ecbbf2b2d498982adb9b5dd45bc18",
            "0befd340bceb4a7fa3323b8a6e00c617"
          ]
        },
        "outputId": "dd7bf45a-d894-467e-eda2-d08144d3ebdc"
      },
      "source": [
        "learn = cnn_learner(data, models.resnet34, metrics=error_rate)"
      ],
      "execution_count": 80,
      "outputs": [
        {
          "output_type": "stream",
          "text": [
            "Downloading: \"https://download.pytorch.org/models/resnet34-333f7ec4.pth\" to /root/.cache/torch/hub/checkpoints/resnet34-333f7ec4.pth\n"
          ],
          "name": "stderr"
        },
        {
          "output_type": "display_data",
          "data": {
            "application/vnd.jupyter.widget-view+json": {
              "model_id": "c15b5de06a28477588147cf3ed3c80e3",
              "version_minor": 0,
              "version_major": 2
            },
            "text/plain": [
              "HBox(children=(FloatProgress(value=0.0, max=87306240.0), HTML(value='')))"
            ]
          },
          "metadata": {
            "tags": []
          }
        },
        {
          "output_type": "stream",
          "text": [
            "\n"
          ],
          "name": "stdout"
        }
      ]
    },
    {
      "cell_type": "code",
      "metadata": {
        "id": "USLmfdSQgHQn",
        "colab": {
          "base_uri": "https://localhost:8080/",
          "height": 173
        },
        "outputId": "2119b0c7-d509-44e3-c245-810d0e335332"
      },
      "source": [
        "learn.fit_one_cycle(4)"
      ],
      "execution_count": null,
      "outputs": [
        {
          "output_type": "display_data",
          "data": {
            "text/html": [
              "<table border=\"1\" class=\"dataframe\">\n",
              "  <thead>\n",
              "    <tr style=\"text-align: left;\">\n",
              "      <th>epoch</th>\n",
              "      <th>train_loss</th>\n",
              "      <th>valid_loss</th>\n",
              "      <th>error_rate</th>\n",
              "      <th>time</th>\n",
              "    </tr>\n",
              "  </thead>\n",
              "  <tbody>\n",
              "    <tr>\n",
              "      <td>0</td>\n",
              "      <td>1.295218</td>\n",
              "      <td>1.281568</td>\n",
              "      <td>0.521739</td>\n",
              "      <td>00:02</td>\n",
              "    </tr>\n",
              "    <tr>\n",
              "      <td>1</td>\n",
              "      <td>1.346728</td>\n",
              "      <td>0.338827</td>\n",
              "      <td>0.217391</td>\n",
              "      <td>00:02</td>\n",
              "    </tr>\n",
              "    <tr>\n",
              "      <td>2</td>\n",
              "      <td>1.027242</td>\n",
              "      <td>0.359760</td>\n",
              "      <td>0.130435</td>\n",
              "      <td>00:02</td>\n",
              "    </tr>\n",
              "    <tr>\n",
              "      <td>3</td>\n",
              "      <td>0.802667</td>\n",
              "      <td>0.391781</td>\n",
              "      <td>0.130435</td>\n",
              "      <td>00:02</td>\n",
              "    </tr>\n",
              "  </tbody>\n",
              "</table>"
            ],
            "text/plain": [
              "<IPython.core.display.HTML object>"
            ]
          },
          "metadata": {
            "tags": []
          }
        }
      ]
    },
    {
      "cell_type": "code",
      "metadata": {
        "id": "9k0C1xy6gHQn"
      },
      "source": [
        "learn.save('stage-1')"
      ],
      "execution_count": null,
      "outputs": []
    },
    {
      "cell_type": "code",
      "metadata": {
        "id": "znidY0TYgHQn"
      },
      "source": [
        "learn.unfreeze()"
      ],
      "execution_count": null,
      "outputs": []
    },
    {
      "cell_type": "code",
      "metadata": {
        "id": "zijefJjVgHQn",
        "colab": {
          "base_uri": "https://localhost:8080/",
          "height": 1000
        },
        "outputId": "86257ce0-a66d-44d8-9807-abb7fad41ff9"
      },
      "source": [
        "learn.lr_find(start_lr = 1e-04)"
      ],
      "execution_count": null,
      "outputs": [
        {
          "output_type": "display_data",
          "data": {
            "text/html": [
              "\n",
              "    <div>\n",
              "        <style>\n",
              "            /* Turns off some styling */\n",
              "            progress {\n",
              "                /* gets rid of default border in Firefox and Opera. */\n",
              "                border: none;\n",
              "                /* Needs to be in here for Safari polyfill so background images work as expected. */\n",
              "                background-size: auto;\n",
              "            }\n",
              "            .progress-bar-interrupted, .progress-bar-interrupted::-webkit-progress-bar {\n",
              "                background: #F44336;\n",
              "            }\n",
              "        </style>\n",
              "      <progress value='68' class='' max='100' style='width:300px; height:20px; vertical-align: middle;'></progress>\n",
              "      68.00% [68/100 02:20<01:06]\n",
              "    </div>\n",
              "    \n",
              "<table border=\"1\" class=\"dataframe\">\n",
              "  <thead>\n",
              "    <tr style=\"text-align: left;\">\n",
              "      <th>epoch</th>\n",
              "      <th>train_loss</th>\n",
              "      <th>valid_loss</th>\n",
              "      <th>error_rate</th>\n",
              "      <th>time</th>\n",
              "    </tr>\n",
              "  </thead>\n",
              "  <tbody>\n",
              "    <tr>\n",
              "      <td>0</td>\n",
              "      <td>0.402465</td>\n",
              "      <td>#na#</td>\n",
              "      <td>00:02</td>\n",
              "    </tr>\n",
              "    <tr>\n",
              "      <td>1</td>\n",
              "      <td>0.348033</td>\n",
              "      <td>#na#</td>\n",
              "      <td>00:02</td>\n",
              "    </tr>\n",
              "    <tr>\n",
              "      <td>2</td>\n",
              "      <td>0.276271</td>\n",
              "      <td>#na#</td>\n",
              "      <td>00:02</td>\n",
              "    </tr>\n",
              "    <tr>\n",
              "      <td>3</td>\n",
              "      <td>0.232397</td>\n",
              "      <td>#na#</td>\n",
              "      <td>00:02</td>\n",
              "    </tr>\n",
              "    <tr>\n",
              "      <td>4</td>\n",
              "      <td>0.220603</td>\n",
              "      <td>#na#</td>\n",
              "      <td>00:02</td>\n",
              "    </tr>\n",
              "    <tr>\n",
              "      <td>5</td>\n",
              "      <td>0.206562</td>\n",
              "      <td>#na#</td>\n",
              "      <td>00:02</td>\n",
              "    </tr>\n",
              "    <tr>\n",
              "      <td>6</td>\n",
              "      <td>0.194439</td>\n",
              "      <td>#na#</td>\n",
              "      <td>00:02</td>\n",
              "    </tr>\n",
              "    <tr>\n",
              "      <td>7</td>\n",
              "      <td>0.190469</td>\n",
              "      <td>#na#</td>\n",
              "      <td>00:02</td>\n",
              "    </tr>\n",
              "    <tr>\n",
              "      <td>8</td>\n",
              "      <td>0.183030</td>\n",
              "      <td>#na#</td>\n",
              "      <td>00:02</td>\n",
              "    </tr>\n",
              "    <tr>\n",
              "      <td>9</td>\n",
              "      <td>0.177582</td>\n",
              "      <td>#na#</td>\n",
              "      <td>00:02</td>\n",
              "    </tr>\n",
              "    <tr>\n",
              "      <td>10</td>\n",
              "      <td>0.163126</td>\n",
              "      <td>#na#</td>\n",
              "      <td>00:02</td>\n",
              "    </tr>\n",
              "    <tr>\n",
              "      <td>11</td>\n",
              "      <td>0.157879</td>\n",
              "      <td>#na#</td>\n",
              "      <td>00:02</td>\n",
              "    </tr>\n",
              "    <tr>\n",
              "      <td>12</td>\n",
              "      <td>0.153402</td>\n",
              "      <td>#na#</td>\n",
              "      <td>00:02</td>\n",
              "    </tr>\n",
              "    <tr>\n",
              "      <td>13</td>\n",
              "      <td>0.150383</td>\n",
              "      <td>#na#</td>\n",
              "      <td>00:02</td>\n",
              "    </tr>\n",
              "    <tr>\n",
              "      <td>14</td>\n",
              "      <td>0.140635</td>\n",
              "      <td>#na#</td>\n",
              "      <td>00:02</td>\n",
              "    </tr>\n",
              "    <tr>\n",
              "      <td>15</td>\n",
              "      <td>0.131059</td>\n",
              "      <td>#na#</td>\n",
              "      <td>00:02</td>\n",
              "    </tr>\n",
              "    <tr>\n",
              "      <td>16</td>\n",
              "      <td>0.123745</td>\n",
              "      <td>#na#</td>\n",
              "      <td>00:02</td>\n",
              "    </tr>\n",
              "    <tr>\n",
              "      <td>17</td>\n",
              "      <td>0.117059</td>\n",
              "      <td>#na#</td>\n",
              "      <td>00:02</td>\n",
              "    </tr>\n",
              "    <tr>\n",
              "      <td>18</td>\n",
              "      <td>0.124184</td>\n",
              "      <td>#na#</td>\n",
              "      <td>00:02</td>\n",
              "    </tr>\n",
              "    <tr>\n",
              "      <td>19</td>\n",
              "      <td>0.118139</td>\n",
              "      <td>#na#</td>\n",
              "      <td>00:02</td>\n",
              "    </tr>\n",
              "    <tr>\n",
              "      <td>20</td>\n",
              "      <td>0.114187</td>\n",
              "      <td>#na#</td>\n",
              "      <td>00:02</td>\n",
              "    </tr>\n",
              "    <tr>\n",
              "      <td>21</td>\n",
              "      <td>0.109240</td>\n",
              "      <td>#na#</td>\n",
              "      <td>00:02</td>\n",
              "    </tr>\n",
              "    <tr>\n",
              "      <td>22</td>\n",
              "      <td>0.117007</td>\n",
              "      <td>#na#</td>\n",
              "      <td>00:02</td>\n",
              "    </tr>\n",
              "    <tr>\n",
              "      <td>23</td>\n",
              "      <td>0.114792</td>\n",
              "      <td>#na#</td>\n",
              "      <td>00:02</td>\n",
              "    </tr>\n",
              "    <tr>\n",
              "      <td>24</td>\n",
              "      <td>0.109376</td>\n",
              "      <td>#na#</td>\n",
              "      <td>00:02</td>\n",
              "    </tr>\n",
              "    <tr>\n",
              "      <td>25</td>\n",
              "      <td>0.104074</td>\n",
              "      <td>#na#</td>\n",
              "      <td>00:02</td>\n",
              "    </tr>\n",
              "    <tr>\n",
              "      <td>26</td>\n",
              "      <td>0.100429</td>\n",
              "      <td>#na#</td>\n",
              "      <td>00:02</td>\n",
              "    </tr>\n",
              "    <tr>\n",
              "      <td>27</td>\n",
              "      <td>0.095793</td>\n",
              "      <td>#na#</td>\n",
              "      <td>00:02</td>\n",
              "    </tr>\n",
              "    <tr>\n",
              "      <td>28</td>\n",
              "      <td>0.093582</td>\n",
              "      <td>#na#</td>\n",
              "      <td>00:02</td>\n",
              "    </tr>\n",
              "    <tr>\n",
              "      <td>29</td>\n",
              "      <td>0.090725</td>\n",
              "      <td>#na#</td>\n",
              "      <td>00:02</td>\n",
              "    </tr>\n",
              "    <tr>\n",
              "      <td>30</td>\n",
              "      <td>0.086854</td>\n",
              "      <td>#na#</td>\n",
              "      <td>00:02</td>\n",
              "    </tr>\n",
              "    <tr>\n",
              "      <td>31</td>\n",
              "      <td>0.083210</td>\n",
              "      <td>#na#</td>\n",
              "      <td>00:02</td>\n",
              "    </tr>\n",
              "    <tr>\n",
              "      <td>32</td>\n",
              "      <td>0.080603</td>\n",
              "      <td>#na#</td>\n",
              "      <td>00:02</td>\n",
              "    </tr>\n",
              "    <tr>\n",
              "      <td>33</td>\n",
              "      <td>0.077604</td>\n",
              "      <td>#na#</td>\n",
              "      <td>00:02</td>\n",
              "    </tr>\n",
              "    <tr>\n",
              "      <td>34</td>\n",
              "      <td>0.074545</td>\n",
              "      <td>#na#</td>\n",
              "      <td>00:02</td>\n",
              "    </tr>\n",
              "    <tr>\n",
              "      <td>35</td>\n",
              "      <td>0.071677</td>\n",
              "      <td>#na#</td>\n",
              "      <td>00:02</td>\n",
              "    </tr>\n",
              "    <tr>\n",
              "      <td>36</td>\n",
              "      <td>0.068957</td>\n",
              "      <td>#na#</td>\n",
              "      <td>00:02</td>\n",
              "    </tr>\n",
              "    <tr>\n",
              "      <td>37</td>\n",
              "      <td>0.066403</td>\n",
              "      <td>#na#</td>\n",
              "      <td>00:02</td>\n",
              "    </tr>\n",
              "    <tr>\n",
              "      <td>38</td>\n",
              "      <td>0.064002</td>\n",
              "      <td>#na#</td>\n",
              "      <td>00:02</td>\n",
              "    </tr>\n",
              "    <tr>\n",
              "      <td>39</td>\n",
              "      <td>0.061693</td>\n",
              "      <td>#na#</td>\n",
              "      <td>00:02</td>\n",
              "    </tr>\n",
              "    <tr>\n",
              "      <td>40</td>\n",
              "      <td>0.062612</td>\n",
              "      <td>#na#</td>\n",
              "      <td>00:02</td>\n",
              "    </tr>\n",
              "    <tr>\n",
              "      <td>41</td>\n",
              "      <td>0.060424</td>\n",
              "      <td>#na#</td>\n",
              "      <td>00:02</td>\n",
              "    </tr>\n",
              "    <tr>\n",
              "      <td>42</td>\n",
              "      <td>0.058343</td>\n",
              "      <td>#na#</td>\n",
              "      <td>00:01</td>\n",
              "    </tr>\n",
              "    <tr>\n",
              "      <td>43</td>\n",
              "      <td>0.061722</td>\n",
              "      <td>#na#</td>\n",
              "      <td>00:02</td>\n",
              "    </tr>\n",
              "    <tr>\n",
              "      <td>44</td>\n",
              "      <td>0.059661</td>\n",
              "      <td>#na#</td>\n",
              "      <td>00:02</td>\n",
              "    </tr>\n",
              "    <tr>\n",
              "      <td>45</td>\n",
              "      <td>0.057711</td>\n",
              "      <td>#na#</td>\n",
              "      <td>00:02</td>\n",
              "    </tr>\n",
              "    <tr>\n",
              "      <td>46</td>\n",
              "      <td>0.055835</td>\n",
              "      <td>#na#</td>\n",
              "      <td>00:02</td>\n",
              "    </tr>\n",
              "    <tr>\n",
              "      <td>47</td>\n",
              "      <td>0.054037</td>\n",
              "      <td>#na#</td>\n",
              "      <td>00:02</td>\n",
              "    </tr>\n",
              "    <tr>\n",
              "      <td>48</td>\n",
              "      <td>0.052318</td>\n",
              "      <td>#na#</td>\n",
              "      <td>00:02</td>\n",
              "    </tr>\n",
              "    <tr>\n",
              "      <td>49</td>\n",
              "      <td>0.050674</td>\n",
              "      <td>#na#</td>\n",
              "      <td>00:02</td>\n",
              "    </tr>\n",
              "    <tr>\n",
              "      <td>50</td>\n",
              "      <td>0.049103</td>\n",
              "      <td>#na#</td>\n",
              "      <td>00:02</td>\n",
              "    </tr>\n",
              "    <tr>\n",
              "      <td>51</td>\n",
              "      <td>0.047727</td>\n",
              "      <td>#na#</td>\n",
              "      <td>00:02</td>\n",
              "    </tr>\n",
              "    <tr>\n",
              "      <td>52</td>\n",
              "      <td>0.048660</td>\n",
              "      <td>#na#</td>\n",
              "      <td>00:02</td>\n",
              "    </tr>\n",
              "    <tr>\n",
              "      <td>53</td>\n",
              "      <td>0.047268</td>\n",
              "      <td>#na#</td>\n",
              "      <td>00:02</td>\n",
              "    </tr>\n",
              "    <tr>\n",
              "      <td>54</td>\n",
              "      <td>0.046274</td>\n",
              "      <td>#na#</td>\n",
              "      <td>00:02</td>\n",
              "    </tr>\n",
              "    <tr>\n",
              "      <td>55</td>\n",
              "      <td>0.046876</td>\n",
              "      <td>#na#</td>\n",
              "      <td>00:02</td>\n",
              "    </tr>\n",
              "    <tr>\n",
              "      <td>56</td>\n",
              "      <td>0.052064</td>\n",
              "      <td>#na#</td>\n",
              "      <td>00:02</td>\n",
              "    </tr>\n",
              "    <tr>\n",
              "      <td>57</td>\n",
              "      <td>0.053834</td>\n",
              "      <td>#na#</td>\n",
              "      <td>00:02</td>\n",
              "    </tr>\n",
              "    <tr>\n",
              "      <td>58</td>\n",
              "      <td>0.055241</td>\n",
              "      <td>#na#</td>\n",
              "      <td>00:02</td>\n",
              "    </tr>\n",
              "    <tr>\n",
              "      <td>59</td>\n",
              "      <td>0.064982</td>\n",
              "      <td>#na#</td>\n",
              "      <td>00:02</td>\n",
              "    </tr>\n",
              "    <tr>\n",
              "      <td>60</td>\n",
              "      <td>0.074027</td>\n",
              "      <td>#na#</td>\n",
              "      <td>00:02</td>\n",
              "    </tr>\n",
              "    <tr>\n",
              "      <td>61</td>\n",
              "      <td>0.077168</td>\n",
              "      <td>#na#</td>\n",
              "      <td>00:02</td>\n",
              "    </tr>\n",
              "    <tr>\n",
              "      <td>62</td>\n",
              "      <td>0.087089</td>\n",
              "      <td>#na#</td>\n",
              "      <td>00:02</td>\n",
              "    </tr>\n",
              "    <tr>\n",
              "      <td>63</td>\n",
              "      <td>0.087430</td>\n",
              "      <td>#na#</td>\n",
              "      <td>00:02</td>\n",
              "    </tr>\n",
              "    <tr>\n",
              "      <td>64</td>\n",
              "      <td>0.085763</td>\n",
              "      <td>#na#</td>\n",
              "      <td>00:02</td>\n",
              "    </tr>\n",
              "    <tr>\n",
              "      <td>65</td>\n",
              "      <td>0.099114</td>\n",
              "      <td>#na#</td>\n",
              "      <td>00:02</td>\n",
              "    </tr>\n",
              "    <tr>\n",
              "      <td>66</td>\n",
              "      <td>0.110045</td>\n",
              "      <td>#na#</td>\n",
              "      <td>00:02</td>\n",
              "    </tr>\n",
              "    <tr>\n",
              "      <td>67</td>\n",
              "      <td>0.180445</td>\n",
              "      <td>#na#</td>\n",
              "      <td>00:02</td>\n",
              "    </tr>\n",
              "  </tbody>\n",
              "</table><p>\n",
              "\n",
              "    <div>\n",
              "        <style>\n",
              "            /* Turns off some styling */\n",
              "            progress {\n",
              "                /* gets rid of default border in Firefox and Opera. */\n",
              "                border: none;\n",
              "                /* Needs to be in here for Safari polyfill so background images work as expected. */\n",
              "                background-size: auto;\n",
              "            }\n",
              "            .progress-bar-interrupted, .progress-bar-interrupted::-webkit-progress-bar {\n",
              "                background: #F44336;\n",
              "            }\n",
              "        </style>\n",
              "      <progress value='0' class='' max='1' style='width:300px; height:20px; vertical-align: middle;'></progress>\n",
              "      0.00% [0/1 00:00<00:00]\n",
              "    </div>\n",
              "    "
            ],
            "text/plain": [
              "<IPython.core.display.HTML object>"
            ]
          },
          "metadata": {
            "tags": []
          }
        },
        {
          "output_type": "stream",
          "text": [
            "LR Finder is complete, type {learner_name}.recorder.plot() to see the graph.\n"
          ],
          "name": "stdout"
        }
      ]
    },
    {
      "cell_type": "code",
      "metadata": {
        "id": "AnQGPgymgHQn",
        "colab": {
          "base_uri": "https://localhost:8080/",
          "height": 279
        },
        "outputId": "c9ddfc58-5c3a-4067-f9bd-ab165464a585"
      },
      "source": [
        "learn.recorder.plot()"
      ],
      "execution_count": null,
      "outputs": [
        {
          "output_type": "display_data",
          "data": {
            "image/png": "[encoded data removed]",
            "text/plain": [
              "<Figure size 432x288 with 1 Axes>"
            ]
          },
          "metadata": {
            "tags": [],
            "needs_background": "light"
          }
        }
      ]
    },
    {
      "cell_type": "code",
      "metadata": {
        "id": "5vZbvYxUgHQn",
        "colab": {
          "base_uri": "https://localhost:8080/",
          "height": 173
        },
        "outputId": "5474a995-d518-4b74-cce6-6ba37cbc7093"
      },
      "source": [
        "learn.fit_one_cycle(4,slice(1e-02,1e-01))"
      ],
      "execution_count": null,
      "outputs": [
        {
          "output_type": "display_data",
          "data": {
            "text/html": [
              "<table border=\"1\" class=\"dataframe\">\n",
              "  <thead>\n",
              "    <tr style=\"text-align: left;\">\n",
              "      <th>epoch</th>\n",
              "      <th>train_loss</th>\n",
              "      <th>valid_loss</th>\n",
              "      <th>error_rate</th>\n",
              "      <th>time</th>\n",
              "    </tr>\n",
              "  </thead>\n",
              "  <tbody>\n",
              "    <tr>\n",
              "      <td>0</td>\n",
              "      <td>0.193637</td>\n",
              "      <td>0.615130</td>\n",
              "      <td>0.130435</td>\n",
              "      <td>00:02</td>\n",
              "    </tr>\n",
              "    <tr>\n",
              "      <td>1</td>\n",
              "      <td>0.165208</td>\n",
              "      <td>2.507862</td>\n",
              "      <td>0.217391</td>\n",
              "      <td>00:02</td>\n",
              "    </tr>\n",
              "    <tr>\n",
              "      <td>2</td>\n",
              "      <td>0.147674</td>\n",
              "      <td>2.738310</td>\n",
              "      <td>0.130435</td>\n",
              "      <td>00:02</td>\n",
              "    </tr>\n",
              "    <tr>\n",
              "      <td>3</td>\n",
              "      <td>0.294828</td>\n",
              "      <td>1.760022</td>\n",
              "      <td>0.130435</td>\n",
              "      <td>00:02</td>\n",
              "    </tr>\n",
              "  </tbody>\n",
              "</table>"
            ],
            "text/plain": [
              "<IPython.core.display.HTML object>"
            ]
          },
          "metadata": {
            "tags": []
          }
        }
      ]
    },
    {
      "cell_type": "code",
      "metadata": {
        "id": "jbTdMNYEgHQo"
      },
      "source": [
        "learn.save('well_done!_1')"
      ],
      "execution_count": null,
      "outputs": []
    },
    {
      "cell_type": "markdown",
      "metadata": {
        "id": "bLPwMcA7gHQo"
      },
      "source": [
        "## learning rate determination and analysis"
      ]
    },
    {
      "cell_type": "code",
      "metadata": {
        "id": "D1d1xB8DgHQo"
      },
      "source": [
        "#learn = cnn_learner(data, models.resnet34, metrics=error_rate)\n",
        "learn.load('well_done!_2');"
      ],
      "execution_count": 81,
      "outputs": []
    },
    {
      "cell_type": "code",
      "metadata": {
        "id": "XbjJ2O2tgHQo",
        "colab": {
          "base_uri": "https://localhost:8080/",
          "height": 17
        },
        "outputId": "73458b38-d2b6-46e3-8c2c-4602567d8d5c"
      },
      "source": [
        "interp = ClassificationInterpretation.from_learner(learn)"
      ],
      "execution_count": null,
      "outputs": [
        {
          "output_type": "display_data",
          "data": {
            "text/html": [
              ""
            ],
            "text/plain": [
              "<IPython.core.display.HTML object>"
            ]
          },
          "metadata": {
            "tags": []
          }
        }
      ]
    },
    {
      "cell_type": "code",
      "metadata": {
        "id": "vTVKyoxwgHQo",
        "colab": {
          "base_uri": "https://localhost:8080/",
          "height": 311
        },
        "outputId": "9741e2ca-4035-439e-8242-3f020cf3be06"
      },
      "source": [
        "interp.plot_confusion_matrix()"
      ],
      "execution_count": null,
      "outputs": [
        {
          "output_type": "display_data",
          "data": {
            "image/png": "[encoded data removed]",
            "text/plain": [
              "<Figure size 432x288 with 1 Axes>"
            ]
          },
          "metadata": {
            "tags": [],
            "needs_background": "light"
          }
        }
      ]
    },
    {
      "cell_type": "markdown",
      "metadata": {
        "id": "GFT2gSBIc5br"
      },
      "source": [
        "##Apply Image"
      ]
    },
    {
      "cell_type": "code",
      "metadata": {
        "id": "ZcCnr_jO3vkE",
        "colab": {
          "base_uri": "https://localhost:8080/"
        },
        "outputId": "35f8fb6f-9d76-4249-cf4b-feb95b0a3eca"
      },
      "source": [
        "path=Path(f_path)\n",
        "path"
      ],
      "execution_count": 82,
      "outputs": [
        {
          "output_type": "execute_result",
          "data": {
            "text/plain": [
              "PosixPath('/content/drive/MyDrive/dna/push-up dataset/frames/Video1.mp4')"
            ]
          },
          "metadata": {
            "tags": []
          },
          "execution_count": 82
        }
      ]
    },
    {
      "cell_type": "code",
      "metadata": {
        "colab": {
          "base_uri": "https://localhost:8080/"
        },
        "id": "MTZTOAjWrxIr",
        "outputId": "ce88763e-3792-4ec8-ef67-d169cda4fd21"
      },
      "source": [
        "len(path.ls())"
      ],
      "execution_count": 83,
      "outputs": [
        {
          "output_type": "execute_result",
          "data": {
            "text/plain": [
              "632"
            ]
          },
          "metadata": {
            "tags": []
          },
          "execution_count": 83
        }
      ]
    },
    {
      "cell_type": "code",
      "metadata": {
        "id": "AcMGoNVP3cCb",
        "colab": {
          "base_uri": "https://localhost:8080/"
        },
        "outputId": "505eb748-bf29-41dd-c2cd-c615267c1593"
      },
      "source": [
        "lis=[]\n",
        "for i in range(len(path.ls())):\n",
        "  img = open_image(Path('/content/drive/MyDrive/dna/push-up dataset/frames/%s/frame%d.jpg'%(vname,i)))\n",
        "  pre = learn.predict(img)\n",
        "  lis.append(pre)\n",
        "# Make all prediction of each frame into a list"
      ],
      "execution_count": 84,
      "outputs": [
        {
          "output_type": "execute_result",
          "data": {
            "text/plain": [
              "[(Category tensor(0), tensor(0), tensor([1.0000e+00, 1.9579e-07])),\n",
              " (Category tensor(0), tensor(0), tensor([1.0000e+00, 5.1875e-11])),\n",
              " (Category tensor(0), tensor(0), tensor([1.0000e+00, 1.3425e-11])),\n",
              " (Category tensor(0), tensor(0), tensor([1.0000e+00, 1.0583e-13])),\n",
              " (Category tensor(0), tensor(0), tensor([1.0000e+00, 3.4720e-14])),\n",
              " (Category tensor(0), tensor(0), tensor([1.0000e+00, 4.7877e-12])),\n",
              " (Category tensor(0), tensor(0), tensor([1.0000e+00, 1.2614e-11])),\n",
              " (Category tensor(0), tensor(0), tensor([1.0000e+00, 1.0543e-06])),\n",
              " (Category tensor(0), tensor(0), tensor([9.9998e-01, 1.7587e-05])),\n",
              " (Category tensor(0), tensor(0), tensor([1.0000e+00, 1.2585e-07])),\n",
              " (Category tensor(0), tensor(0), tensor([1.0000e+00, 4.4318e-06])),\n",
              " (Category tensor(1), tensor(1), tensor([0.3698, 0.6302])),\n",
              " (Category tensor(1), tensor(1), tensor([0.0565, 0.9435])),\n",
              " (Category tensor(1), tensor(1), tensor([1.7466e-04, 9.9983e-01])),\n",
              " (Category tensor(1), tensor(1), tensor([0.1716, 0.8284])),\n",
              " (Category tensor(0), tensor(0), tensor([0.9944, 0.0056])),\n",
              " (Category tensor(0), tensor(0), tensor([9.9999e-01, 7.7735e-06])),\n",
              " (Category tensor(0), tensor(0), tensor([1.0000e+00, 8.8594e-07])),\n",
              " (Category tensor(0), tensor(0), tensor([1.0000e+00, 2.4174e-09])),\n",
              " (Category tensor(0), tensor(0), tensor([1.0000e+00, 2.9490e-08])),\n",
              " (Category tensor(0), tensor(0), tensor([9.9999e-01, 6.7848e-06])),\n",
              " (Category tensor(0), tensor(0), tensor([1.0000e+00, 7.0273e-08])),\n",
              " (Category tensor(0), tensor(0), tensor([1.0000e+00, 2.8403e-08])),\n",
              " (Category tensor(0), tensor(0), tensor([0.9983, 0.0017])),\n",
              " (Category tensor(1), tensor(1), tensor([2.1214e-06, 1.0000e+00])),\n",
              " (Category tensor(1), tensor(1), tensor([9.5961e-05, 9.9990e-01])),\n",
              " (Category tensor(1), tensor(1), tensor([2.6561e-06, 1.0000e+00])),\n",
              " (Category tensor(1), tensor(1), tensor([1.5938e-05, 9.9998e-01])),\n",
              " (Category tensor(1), tensor(1), tensor([0.0383, 0.9617])),\n",
              " (Category tensor(1), tensor(1), tensor([0.0279, 0.9721])),\n",
              " (Category tensor(0), tensor(0), tensor([0.8204, 0.1796])),\n",
              " (Category tensor(1), tensor(1), tensor([0.4953, 0.5047])),\n",
              " (Category tensor(1), tensor(1), tensor([0.1419, 0.8581])),\n",
              " (Category tensor(0), tensor(0), tensor([9.9962e-01, 3.7720e-04])),\n",
              " (Category tensor(0), tensor(0), tensor([1.0000e+00, 1.7893e-06])),\n",
              " (Category tensor(0), tensor(0), tensor([1.0000e+00, 8.3437e-08])),\n",
              " (Category tensor(0), tensor(0), tensor([1.0000e+00, 4.4748e-08])),\n",
              " (Category tensor(0), tensor(0), tensor([9.9959e-01, 4.1211e-04])),\n",
              " (Category tensor(0), tensor(0), tensor([9.9998e-01, 2.1017e-05])),\n",
              " (Category tensor(0), tensor(0), tensor([9.9993e-01, 6.7538e-05])),\n",
              " (Category tensor(0), tensor(0), tensor([0.9835, 0.0165])),\n",
              " (Category tensor(1), tensor(1), tensor([0.0292, 0.9708])),\n",
              " (Category tensor(1), tensor(1), tensor([2.5499e-04, 9.9974e-01])),\n",
              " (Category tensor(1), tensor(1), tensor([2.1687e-04, 9.9978e-01])),\n",
              " (Category tensor(1), tensor(1), tensor([5.7820e-05, 9.9994e-01])),\n",
              " (Category tensor(1), tensor(1), tensor([6.9472e-06, 9.9999e-01])),\n",
              " (Category tensor(1), tensor(1), tensor([1.7283e-05, 9.9998e-01])),\n",
              " (Category tensor(1), tensor(1), tensor([2.0663e-04, 9.9979e-01])),\n",
              " (Category tensor(1), tensor(1), tensor([4.1561e-07, 1.0000e+00])),\n",
              " (Category tensor(1), tensor(1), tensor([3.2716e-09, 1.0000e+00])),\n",
              " (Category tensor(1), tensor(1), tensor([1.3127e-08, 1.0000e+00])),\n",
              " (Category tensor(1), tensor(1), tensor([6.4520e-08, 1.0000e+00])),\n",
              " (Category tensor(1), tensor(1), tensor([2.4335e-08, 1.0000e+00])),\n",
              " (Category tensor(1), tensor(1), tensor([5.6148e-09, 1.0000e+00])),\n",
              " (Category tensor(1), tensor(1), tensor([1.9564e-06, 1.0000e+00])),\n",
              " (Category tensor(1), tensor(1), tensor([6.3696e-07, 1.0000e+00])),\n",
              " (Category tensor(1), tensor(1), tensor([5.3337e-09, 1.0000e+00])),\n",
              " (Category tensor(1), tensor(1), tensor([5.9088e-12, 1.0000e+00])),\n",
              " (Category tensor(1), tensor(1), tensor([7.9186e-08, 1.0000e+00])),\n",
              " (Category tensor(1), tensor(1), tensor([6.9538e-04, 9.9930e-01])),\n",
              " (Category tensor(1), tensor(1), tensor([7.9900e-08, 1.0000e+00])),\n",
              " (Category tensor(1), tensor(1), tensor([2.2575e-11, 1.0000e+00])),\n",
              " (Category tensor(1), tensor(1), tensor([8.4314e-10, 1.0000e+00])),\n",
              " (Category tensor(1), tensor(1), tensor([4.6271e-09, 1.0000e+00])),\n",
              " (Category tensor(1), tensor(1), tensor([4.8686e-11, 1.0000e+00])),\n",
              " (Category tensor(1), tensor(1), tensor([6.2638e-10, 1.0000e+00])),\n",
              " (Category tensor(1), tensor(1), tensor([8.0864e-09, 1.0000e+00])),\n",
              " (Category tensor(1), tensor(1), tensor([1.0780e-07, 1.0000e+00])),\n",
              " (Category tensor(1), tensor(1), tensor([2.5356e-09, 1.0000e+00])),\n",
              " (Category tensor(1), tensor(1), tensor([3.4381e-09, 1.0000e+00])),\n",
              " (Category tensor(1), tensor(1), tensor([5.2837e-08, 1.0000e+00])),\n",
              " (Category tensor(1), tensor(1), tensor([4.1913e-08, 1.0000e+00])),\n",
              " (Category tensor(1), tensor(1), tensor([1.7159e-08, 1.0000e+00])),\n",
              " (Category tensor(1), tensor(1), tensor([4.7488e-09, 1.0000e+00])),\n",
              " (Category tensor(1), tensor(1), tensor([3.0173e-06, 1.0000e+00])),\n",
              " (Category tensor(1), tensor(1), tensor([1.3275e-06, 1.0000e+00])),\n",
              " (Category tensor(1), tensor(1), tensor([2.2731e-07, 1.0000e+00])),\n",
              " (Category tensor(1), tensor(1), tensor([5.4900e-09, 1.0000e+00])),\n",
              " (Category tensor(1), tensor(1), tensor([3.6295e-10, 1.0000e+00])),\n",
              " (Category tensor(1), tensor(1), tensor([4.2663e-09, 1.0000e+00])),\n",
              " (Category tensor(1), tensor(1), tensor([2.1003e-09, 1.0000e+00])),\n",
              " (Category tensor(1), tensor(1), tensor([5.7798e-09, 1.0000e+00])),\n",
              " (Category tensor(1), tensor(1), tensor([1.9446e-09, 1.0000e+00])),\n",
              " (Category tensor(1), tensor(1), tensor([8.7775e-09, 1.0000e+00])),\n",
              " (Category tensor(1), tensor(1), tensor([1.2275e-07, 1.0000e+00])),\n",
              " (Category tensor(1), tensor(1), tensor([1.4612e-06, 1.0000e+00])),\n",
              " (Category tensor(1), tensor(1), tensor([6.2362e-07, 1.0000e+00])),\n",
              " (Category tensor(1), tensor(1), tensor([2.1940e-07, 1.0000e+00])),\n",
              " (Category tensor(1), tensor(1), tensor([2.0467e-06, 1.0000e+00])),\n",
              " (Category tensor(1), tensor(1), tensor([6.3610e-07, 1.0000e+00])),\n",
              " (Category tensor(1), tensor(1), tensor([1.6689e-07, 1.0000e+00])),\n",
              " (Category tensor(1), tensor(1), tensor([1.0579e-06, 1.0000e+00])),\n",
              " (Category tensor(1), tensor(1), tensor([1.5986e-06, 1.0000e+00])),\n",
              " (Category tensor(1), tensor(1), tensor([4.2729e-08, 1.0000e+00])),\n",
              " (Category tensor(1), tensor(1), tensor([1.9203e-08, 1.0000e+00])),\n",
              " (Category tensor(1), tensor(1), tensor([4.8490e-08, 1.0000e+00])),\n",
              " (Category tensor(1), tensor(1), tensor([6.1708e-08, 1.0000e+00])),\n",
              " (Category tensor(1), tensor(1), tensor([7.1173e-09, 1.0000e+00])),\n",
              " (Category tensor(1), tensor(1), tensor([2.4535e-10, 1.0000e+00])),\n",
              " (Category tensor(1), tensor(1), tensor([6.2424e-10, 1.0000e+00])),\n",
              " (Category tensor(1), tensor(1), tensor([1.5860e-09, 1.0000e+00])),\n",
              " (Category tensor(1), tensor(1), tensor([9.1696e-09, 1.0000e+00])),\n",
              " (Category tensor(1), tensor(1), tensor([3.0263e-07, 1.0000e+00])),\n",
              " (Category tensor(1), tensor(1), tensor([4.2009e-07, 1.0000e+00])),\n",
              " (Category tensor(1), tensor(1), tensor([4.5026e-07, 1.0000e+00])),\n",
              " (Category tensor(1), tensor(1), tensor([1.7196e-07, 1.0000e+00])),\n",
              " (Category tensor(1), tensor(1), tensor([1.3175e-07, 1.0000e+00])),\n",
              " (Category tensor(1), tensor(1), tensor([4.0825e-07, 1.0000e+00])),\n",
              " (Category tensor(1), tensor(1), tensor([6.4333e-07, 1.0000e+00])),\n",
              " (Category tensor(1), tensor(1), tensor([9.7485e-07, 1.0000e+00])),\n",
              " (Category tensor(1), tensor(1), tensor([9.5106e-07, 1.0000e+00])),\n",
              " (Category tensor(1), tensor(1), tensor([2.3732e-07, 1.0000e+00])),\n",
              " (Category tensor(1), tensor(1), tensor([1.2358e-07, 1.0000e+00])),\n",
              " (Category tensor(1), tensor(1), tensor([5.5736e-08, 1.0000e+00])),\n",
              " (Category tensor(1), tensor(1), tensor([1.7603e-07, 1.0000e+00])),\n",
              " (Category tensor(1), tensor(1), tensor([2.0757e-07, 1.0000e+00])),\n",
              " (Category tensor(1), tensor(1), tensor([5.5192e-08, 1.0000e+00])),\n",
              " (Category tensor(1), tensor(1), tensor([2.1854e-08, 1.0000e+00])),\n",
              " (Category tensor(1), tensor(1), tensor([2.9006e-07, 1.0000e+00])),\n",
              " (Category tensor(1), tensor(1), tensor([3.5539e-06, 1.0000e+00])),\n",
              " (Category tensor(1), tensor(1), tensor([2.7577e-06, 1.0000e+00])),\n",
              " (Category tensor(1), tensor(1), tensor([2.6946e-05, 9.9997e-01])),\n",
              " (Category tensor(1), tensor(1), tensor([0.0012, 0.9988])),\n",
              " (Category tensor(1), tensor(1), tensor([0.0054, 0.9946])),\n",
              " (Category tensor(0), tensor(0), tensor([0.9124, 0.0876])),\n",
              " (Category tensor(0), tensor(0), tensor([0.9802, 0.0198])),\n",
              " (Category tensor(1), tensor(1), tensor([0.0076, 0.9924])),\n",
              " (Category tensor(1), tensor(1), tensor([0.0261, 0.9739])),\n",
              " (Category tensor(0), tensor(0), tensor([0.9947, 0.0053])),\n",
              " (Category tensor(0), tensor(0), tensor([9.9998e-01, 1.7317e-05])),\n",
              " (Category tensor(0), tensor(0), tensor([1.0000e+00, 7.5917e-07])),\n",
              " (Category tensor(0), tensor(0), tensor([1.0000e+00, 2.4516e-07])),\n",
              " (Category tensor(0), tensor(0), tensor([1.0000e+00, 3.3617e-09])),\n",
              " (Category tensor(0), tensor(0), tensor([1.0000e+00, 9.3315e-08])),\n",
              " (Category tensor(0), tensor(0), tensor([1.0000e+00, 3.6075e-08])),\n",
              " (Category tensor(0), tensor(0), tensor([1.0000e+00, 5.4401e-08])),\n",
              " (Category tensor(0), tensor(0), tensor([1.0000e+00, 8.6657e-09])),\n",
              " (Category tensor(0), tensor(0), tensor([1.0000e+00, 6.3301e-07])),\n",
              " (Category tensor(0), tensor(0), tensor([1.0000e+00, 1.2287e-08])),\n",
              " (Category tensor(0), tensor(0), tensor([1.0000e+00, 3.3019e-06])),\n",
              " (Category tensor(0), tensor(0), tensor([1.0000e+00, 2.6373e-09])),\n",
              " (Category tensor(0), tensor(0), tensor([1.0000e+00, 1.0061e-09])),\n",
              " (Category tensor(0), tensor(0), tensor([1.0000e+00, 4.0035e-09])),\n",
              " (Category tensor(0), tensor(0), tensor([1.0000e+00, 3.2532e-07])),\n",
              " (Category tensor(0), tensor(0), tensor([1.0000e+00, 4.2188e-08])),\n",
              " (Category tensor(0), tensor(0), tensor([1.0000e+00, 7.5643e-11])),\n",
              " (Category tensor(0), tensor(0), tensor([1.0000e+00, 4.0881e-16])),\n",
              " (Category tensor(0), tensor(0), tensor([1.0000e+00, 1.2714e-17])),\n",
              " (Category tensor(0), tensor(0), tensor([1.0000e+00, 2.5255e-16])),\n",
              " (Category tensor(0), tensor(0), tensor([1.0000e+00, 2.8839e-15])),\n",
              " (Category tensor(0), tensor(0), tensor([1.0000e+00, 5.2461e-15])),\n",
              " (Category tensor(0), tensor(0), tensor([1.0000e+00, 6.2030e-14])),\n",
              " (Category tensor(0), tensor(0), tensor([1.0000e+00, 3.5588e-08])),\n",
              " (Category tensor(0), tensor(0), tensor([1.0000e+00, 3.6670e-07])),\n",
              " (Category tensor(0), tensor(0), tensor([9.9975e-01, 2.5322e-04])),\n",
              " (Category tensor(0), tensor(0), tensor([0.9988, 0.0012])),\n",
              " (Category tensor(0), tensor(0), tensor([1.0000e+00, 2.1777e-06])),\n",
              " (Category tensor(0), tensor(0), tensor([9.9991e-01, 9.1668e-05])),\n",
              " (Category tensor(0), tensor(0), tensor([9.9973e-01, 2.6734e-04])),\n",
              " (Category tensor(0), tensor(0), tensor([0.9955, 0.0045])),\n",
              " (Category tensor(0), tensor(0), tensor([1.0000e+00, 3.2321e-07])),\n",
              " (Category tensor(0), tensor(0), tensor([9.9990e-01, 9.8239e-05])),\n",
              " (Category tensor(0), tensor(0), tensor([1.0000e+00, 5.2301e-07])),\n",
              " (Category tensor(0), tensor(0), tensor([1.0000e+00, 5.6718e-09])),\n",
              " (Category tensor(0), tensor(0), tensor([0.9818, 0.0182])),\n",
              " (Category tensor(1), tensor(1), tensor([7.7934e-05, 9.9992e-01])),\n",
              " (Category tensor(1), tensor(1), tensor([3.7820e-04, 9.9962e-01])),\n",
              " (Category tensor(1), tensor(1), tensor([0.0081, 0.9919])),\n",
              " (Category tensor(0), tensor(0), tensor([0.9708, 0.0292])),\n",
              " (Category tensor(1), tensor(1), tensor([0.0042, 0.9958])),\n",
              " (Category tensor(1), tensor(1), tensor([1.8629e-06, 1.0000e+00])),\n",
              " (Category tensor(1), tensor(1), tensor([4.1326e-09, 1.0000e+00])),\n",
              " (Category tensor(1), tensor(1), tensor([2.5305e-08, 1.0000e+00])),\n",
              " (Category tensor(1), tensor(1), tensor([9.1200e-09, 1.0000e+00])),\n",
              " (Category tensor(1), tensor(1), tensor([6.8696e-10, 1.0000e+00])),\n",
              " (Category tensor(1), tensor(1), tensor([5.2215e-10, 1.0000e+00])),\n",
              " (Category tensor(1), tensor(1), tensor([1.4921e-10, 1.0000e+00])),\n",
              " (Category tensor(1), tensor(1), tensor([3.3984e-10, 1.0000e+00])),\n",
              " (Category tensor(1), tensor(1), tensor([2.4700e-09, 1.0000e+00])),\n",
              " (Category tensor(1), tensor(1), tensor([4.1770e-10, 1.0000e+00])),\n",
              " (Category tensor(1), tensor(1), tensor([9.6826e-10, 1.0000e+00])),\n",
              " (Category tensor(1), tensor(1), tensor([1.0261e-09, 1.0000e+00])),\n",
              " (Category tensor(1), tensor(1), tensor([1.3786e-10, 1.0000e+00])),\n",
              " (Category tensor(1), tensor(1), tensor([5.3273e-11, 1.0000e+00])),\n",
              " (Category tensor(1), tensor(1), tensor([2.8034e-10, 1.0000e+00])),\n",
              " (Category tensor(1), tensor(1), tensor([1.6996e-10, 1.0000e+00])),\n",
              " (Category tensor(1), tensor(1), tensor([3.9221e-10, 1.0000e+00])),\n",
              " (Category tensor(1), tensor(1), tensor([5.0102e-10, 1.0000e+00])),\n",
              " (Category tensor(1), tensor(1), tensor([3.2428e-10, 1.0000e+00])),\n",
              " (Category tensor(1), tensor(1), tensor([2.6709e-10, 1.0000e+00])),\n",
              " (Category tensor(1), tensor(1), tensor([3.9057e-09, 1.0000e+00])),\n",
              " (Category tensor(1), tensor(1), tensor([8.3426e-09, 1.0000e+00])),\n",
              " (Category tensor(1), tensor(1), tensor([9.6252e-08, 1.0000e+00])),\n",
              " (Category tensor(1), tensor(1), tensor([3.0668e-06, 1.0000e+00])),\n",
              " (Category tensor(1), tensor(1), tensor([3.3526e-07, 1.0000e+00])),\n",
              " (Category tensor(1), tensor(1), tensor([4.2932e-07, 1.0000e+00])),\n",
              " (Category tensor(0), tensor(0), tensor([0.9056, 0.0944])),\n",
              " (Category tensor(0), tensor(0), tensor([0.8413, 0.1587])),\n",
              " (Category tensor(1), tensor(1), tensor([0.3292, 0.6708])),\n",
              " (Category tensor(0), tensor(0), tensor([0.8505, 0.1495])),\n",
              " (Category tensor(0), tensor(0), tensor([0.9955, 0.0045])),\n",
              " (Category tensor(0), tensor(0), tensor([0.9039, 0.0961])),\n",
              " (Category tensor(0), tensor(0), tensor([9.9954e-01, 4.5763e-04])),\n",
              " (Category tensor(0), tensor(0), tensor([9.9995e-01, 5.4514e-05])),\n",
              " (Category tensor(0), tensor(0), tensor([1.0000e+00, 1.1978e-08])),\n",
              " (Category tensor(0), tensor(0), tensor([1.0000e+00, 6.4686e-07])),\n",
              " (Category tensor(0), tensor(0), tensor([1.0000e+00, 1.1267e-10])),\n",
              " (Category tensor(0), tensor(0), tensor([1.0000e+00, 4.5383e-09])),\n",
              " (Category tensor(0), tensor(0), tensor([1.0000e+00, 1.1522e-09])),\n",
              " (Category tensor(0), tensor(0), tensor([1.0000e+00, 1.3483e-10])),\n",
              " (Category tensor(0), tensor(0), tensor([1.0000e+00, 2.0944e-11])),\n",
              " (Category tensor(0), tensor(0), tensor([1.0000e+00, 9.6587e-13])),\n",
              " (Category tensor(0), tensor(0), tensor([1.0000e+00, 4.1459e-11])),\n",
              " (Category tensor(0), tensor(0), tensor([1.0000e+00, 1.7101e-09])),\n",
              " (Category tensor(0), tensor(0), tensor([1.0000e+00, 1.3883e-06])),\n",
              " (Category tensor(0), tensor(0), tensor([1.0000e+00, 1.4971e-07])),\n",
              " (Category tensor(0), tensor(0), tensor([9.9938e-01, 6.2138e-04])),\n",
              " (Category tensor(0), tensor(0), tensor([9.9998e-01, 1.8138e-05])),\n",
              " (Category tensor(0), tensor(0), tensor([9.9987e-01, 1.2695e-04])),\n",
              " (Category tensor(0), tensor(0), tensor([0.9968, 0.0032])),\n",
              " (Category tensor(0), tensor(0), tensor([0.9956, 0.0044])),\n",
              " (Category tensor(0), tensor(0), tensor([0.9989, 0.0011])),\n",
              " (Category tensor(0), tensor(0), tensor([0.6779, 0.3221])),\n",
              " (Category tensor(0), tensor(0), tensor([9.9964e-01, 3.5941e-04])),\n",
              " (Category tensor(0), tensor(0), tensor([0.8769, 0.1231])),\n",
              " (Category tensor(1), tensor(1), tensor([6.7968e-08, 1.0000e+00])),\n",
              " (Category tensor(1), tensor(1), tensor([3.3650e-08, 1.0000e+00])),\n",
              " (Category tensor(1), tensor(1), tensor([4.6147e-09, 1.0000e+00])),\n",
              " (Category tensor(1), tensor(1), tensor([2.8881e-07, 1.0000e+00])),\n",
              " (Category tensor(1), tensor(1), tensor([1.4473e-08, 1.0000e+00])),\n",
              " (Category tensor(1), tensor(1), tensor([1.4359e-07, 1.0000e+00])),\n",
              " (Category tensor(1), tensor(1), tensor([5.8167e-08, 1.0000e+00])),\n",
              " (Category tensor(1), tensor(1), tensor([9.2914e-09, 1.0000e+00])),\n",
              " (Category tensor(1), tensor(1), tensor([2.7103e-09, 1.0000e+00])),\n",
              " (Category tensor(1), tensor(1), tensor([2.1120e-09, 1.0000e+00])),\n",
              " (Category tensor(1), tensor(1), tensor([1.0088e-08, 1.0000e+00])),\n",
              " (Category tensor(1), tensor(1), tensor([1.4023e-08, 1.0000e+00])),\n",
              " (Category tensor(1), tensor(1), tensor([3.1934e-08, 1.0000e+00])),\n",
              " (Category tensor(1), tensor(1), tensor([3.0167e-09, 1.0000e+00])),\n",
              " (Category tensor(1), tensor(1), tensor([1.3527e-09, 1.0000e+00])),\n",
              " (Category tensor(1), tensor(1), tensor([1.3496e-09, 1.0000e+00])),\n",
              " (Category tensor(1), tensor(1), tensor([8.5319e-10, 1.0000e+00])),\n",
              " (Category tensor(1), tensor(1), tensor([6.6401e-10, 1.0000e+00])),\n",
              " (Category tensor(1), tensor(1), tensor([5.9506e-09, 1.0000e+00])),\n",
              " (Category tensor(1), tensor(1), tensor([1.5199e-08, 1.0000e+00])),\n",
              " (Category tensor(1), tensor(1), tensor([1.4033e-08, 1.0000e+00])),\n",
              " (Category tensor(1), tensor(1), tensor([5.4224e-08, 1.0000e+00])),\n",
              " (Category tensor(1), tensor(1), tensor([4.0363e-07, 1.0000e+00])),\n",
              " (Category tensor(1), tensor(1), tensor([5.0182e-06, 9.9999e-01])),\n",
              " (Category tensor(0), tensor(0), tensor([0.7150, 0.2850])),\n",
              " (Category tensor(0), tensor(0), tensor([1.0000e+00, 1.0829e-07])),\n",
              " (Category tensor(0), tensor(0), tensor([0.9881, 0.0119])),\n",
              " (Category tensor(0), tensor(0), tensor([9.9942e-01, 5.8232e-04])),\n",
              " (Category tensor(0), tensor(0), tensor([1.0000e+00, 1.6015e-07])),\n",
              " (Category tensor(0), tensor(0), tensor([1.0000e+00, 3.9630e-08])),\n",
              " (Category tensor(0), tensor(0), tensor([1.0000e+00, 4.6451e-11])),\n",
              " (Category tensor(0), tensor(0), tensor([1.0000e+00, 2.4787e-07])),\n",
              " (Category tensor(0), tensor(0), tensor([1.0000e+00, 4.3370e-10])),\n",
              " (Category tensor(0), tensor(0), tensor([1.0000e+00, 1.0725e-08])),\n",
              " (Category tensor(0), tensor(0), tensor([1.0000e+00, 6.1720e-11])),\n",
              " (Category tensor(0), tensor(0), tensor([1.0000e+00, 1.7623e-06])),\n",
              " (Category tensor(0), tensor(0), tensor([9.9998e-01, 2.2146e-05])),\n",
              " (Category tensor(0), tensor(0), tensor([1.0000e+00, 8.2419e-12])),\n",
              " (Category tensor(0), tensor(0), tensor([1.0000e+00, 3.3281e-13])),\n",
              " (Category tensor(0), tensor(0), tensor([1.0000e+00, 1.3984e-11])),\n",
              " (Category tensor(0), tensor(0), tensor([1.0000e+00, 2.5576e-17])),\n",
              " (Category tensor(0), tensor(0), tensor([1.0000e+00, 1.4728e-17])),\n",
              " (Category tensor(0), tensor(0), tensor([1.0000e+00, 5.1759e-17])),\n",
              " (Category tensor(0), tensor(0), tensor([1.0000e+00, 2.6155e-15])),\n",
              " (Category tensor(0), tensor(0), tensor([1.0000e+00, 2.0241e-19])),\n",
              " (Category tensor(0), tensor(0), tensor([1.0000e+00, 6.6259e-18])),\n",
              " (Category tensor(0), tensor(0), tensor([1.0000e+00, 2.7461e-17])),\n",
              " (Category tensor(0), tensor(0), tensor([1.0000e+00, 2.9695e-19])),\n",
              " (Category tensor(0), tensor(0), tensor([1.0000e+00, 1.0310e-20])),\n",
              " (Category tensor(0), tensor(0), tensor([1.0000e+00, 1.2249e-19])),\n",
              " (Category tensor(0), tensor(0), tensor([1.0000e+00, 2.5627e-19])),\n",
              " (Category tensor(0), tensor(0), tensor([1.0000e+00, 5.8303e-18])),\n",
              " (Category tensor(0), tensor(0), tensor([1.0000e+00, 4.3626e-17])),\n",
              " (Category tensor(0), tensor(0), tensor([1.0000e+00, 4.3595e-16])),\n",
              " (Category tensor(0), tensor(0), tensor([1.0000e+00, 5.1183e-18])),\n",
              " (Category tensor(0), tensor(0), tensor([1.0000e+00, 1.3623e-17])),\n",
              " (Category tensor(0), tensor(0), tensor([1.0000e+00, 1.4465e-16])),\n",
              " (Category tensor(0), tensor(0), tensor([1.0000e+00, 1.7746e-16])),\n",
              " (Category tensor(0), tensor(0), tensor([1.0000e+00, 3.4405e-17])),\n",
              " (Category tensor(0), tensor(0), tensor([1.0000e+00, 1.3393e-19])),\n",
              " (Category tensor(0), tensor(0), tensor([1.0000e+00, 7.0460e-19])),\n",
              " (Category tensor(0), tensor(0), tensor([1.0000e+00, 2.3347e-18])),\n",
              " (Category tensor(0), tensor(0), tensor([1.0000e+00, 2.7155e-16])),\n",
              " (Category tensor(0), tensor(0), tensor([1.0000e+00, 2.3813e-17])),\n",
              " (Category tensor(0), tensor(0), tensor([1.0000e+00, 6.4844e-17])),\n",
              " (Category tensor(0), tensor(0), tensor([1.0000e+00, 5.4542e-18])),\n",
              " (Category tensor(0), tensor(0), tensor([1.0000e+00, 3.4499e-17])),\n",
              " (Category tensor(0), tensor(0), tensor([1.0000e+00, 1.9933e-16])),\n",
              " (Category tensor(0), tensor(0), tensor([1.0000e+00, 6.4640e-16])),\n",
              " (Category tensor(0), tensor(0), tensor([1.0000e+00, 3.0758e-17])),\n",
              " (Category tensor(0), tensor(0), tensor([1.0000e+00, 7.2313e-15])),\n",
              " (Category tensor(0), tensor(0), tensor([1.0000e+00, 1.1657e-14])),\n",
              " (Category tensor(0), tensor(0), tensor([1.0000e+00, 2.1785e-13])),\n",
              " (Category tensor(0), tensor(0), tensor([1.0000e+00, 1.3900e-12])),\n",
              " (Category tensor(0), tensor(0), tensor([1.0000e+00, 5.8623e-09])),\n",
              " (Category tensor(0), tensor(0), tensor([1.0000e+00, 5.7693e-12])),\n",
              " (Category tensor(0), tensor(0), tensor([1.0000e+00, 9.3126e-15])),\n",
              " (Category tensor(0), tensor(0), tensor([1.0000e+00, 5.5597e-09])),\n",
              " (Category tensor(0), tensor(0), tensor([1.0000e+00, 1.6140e-09])),\n",
              " (Category tensor(0), tensor(0), tensor([1.0000e+00, 1.8218e-08])),\n",
              " (Category tensor(0), tensor(0), tensor([1.0000e+00, 9.4038e-09])),\n",
              " (Category tensor(0), tensor(0), tensor([9.9998e-01, 2.3383e-05])),\n",
              " (Category tensor(0), tensor(0), tensor([1.0000e+00, 1.2540e-07])),\n",
              " (Category tensor(0), tensor(0), tensor([1.0000e+00, 3.9434e-07])),\n",
              " (Category tensor(0), tensor(0), tensor([9.9999e-01, 8.3887e-06])),\n",
              " (Category tensor(0), tensor(0), tensor([9.9999e-01, 7.7190e-06])),\n",
              " (Category tensor(0), tensor(0), tensor([1.0000e+00, 1.5052e-06])),\n",
              " (Category tensor(0), tensor(0), tensor([9.9996e-01, 3.6972e-05])),\n",
              " (Category tensor(0), tensor(0), tensor([9.9966e-01, 3.3582e-04])),\n",
              " (Category tensor(0), tensor(0), tensor([1.0000e+00, 2.1386e-07])),\n",
              " (Category tensor(0), tensor(0), tensor([1.0000e+00, 3.5292e-07])),\n",
              " (Category tensor(0), tensor(0), tensor([9.9996e-01, 4.1569e-05])),\n",
              " (Category tensor(1), tensor(1), tensor([0.0097, 0.9903])),\n",
              " (Category tensor(1), tensor(1), tensor([4.1949e-06, 1.0000e+00])),\n",
              " (Category tensor(1), tensor(1), tensor([0.0042, 0.9958])),\n",
              " (Category tensor(1), tensor(1), tensor([0.0122, 0.9878])),\n",
              " (Category tensor(1), tensor(1), tensor([0.3647, 0.6353])),\n",
              " (Category tensor(1), tensor(1), tensor([3.9136e-06, 1.0000e+00])),\n",
              " (Category tensor(1), tensor(1), tensor([1.5434e-09, 1.0000e+00])),\n",
              " (Category tensor(1), tensor(1), tensor([1.0467e-09, 1.0000e+00])),\n",
              " (Category tensor(1), tensor(1), tensor([1.1086e-10, 1.0000e+00])),\n",
              " (Category tensor(1), tensor(1), tensor([7.2495e-12, 1.0000e+00])),\n",
              " (Category tensor(1), tensor(1), tensor([1.2431e-10, 1.0000e+00])),\n",
              " (Category tensor(1), tensor(1), tensor([7.5425e-11, 1.0000e+00])),\n",
              " (Category tensor(1), tensor(1), tensor([1.0123e-11, 1.0000e+00])),\n",
              " (Category tensor(1), tensor(1), tensor([1.8409e-12, 1.0000e+00])),\n",
              " (Category tensor(1), tensor(1), tensor([1.9864e-12, 1.0000e+00])),\n",
              " (Category tensor(1), tensor(1), tensor([2.0663e-12, 1.0000e+00])),\n",
              " (Category tensor(1), tensor(1), tensor([4.8807e-12, 1.0000e+00])),\n",
              " (Category tensor(1), tensor(1), tensor([2.6791e-11, 1.0000e+00])),\n",
              " (Category tensor(1), tensor(1), tensor([2.0412e-11, 1.0000e+00])),\n",
              " (Category tensor(1), tensor(1), tensor([2.3197e-11, 1.0000e+00])),\n",
              " (Category tensor(1), tensor(1), tensor([1.3375e-11, 1.0000e+00])),\n",
              " (Category tensor(1), tensor(1), tensor([8.2710e-13, 1.0000e+00])),\n",
              " (Category tensor(1), tensor(1), tensor([2.4084e-12, 1.0000e+00])),\n",
              " (Category tensor(1), tensor(1), tensor([3.1785e-12, 1.0000e+00])),\n",
              " (Category tensor(1), tensor(1), tensor([4.6070e-12, 1.0000e+00])),\n",
              " (Category tensor(1), tensor(1), tensor([5.6394e-11, 1.0000e+00])),\n",
              " (Category tensor(1), tensor(1), tensor([5.6011e-11, 1.0000e+00])),\n",
              " (Category tensor(1), tensor(1), tensor([4.6527e-11, 1.0000e+00])),\n",
              " (Category tensor(1), tensor(1), tensor([2.1396e-09, 1.0000e+00])),\n",
              " (Category tensor(1), tensor(1), tensor([2.1716e-09, 1.0000e+00])),\n",
              " (Category tensor(1), tensor(1), tensor([2.2859e-08, 1.0000e+00])),\n",
              " (Category tensor(1), tensor(1), tensor([6.2846e-06, 9.9999e-01])),\n",
              " (Category tensor(1), tensor(1), tensor([1.4937e-04, 9.9985e-01])),\n",
              " (Category tensor(0), tensor(0), tensor([9.9994e-01, 5.7864e-05])),\n",
              " (Category tensor(1), tensor(1), tensor([0.1388, 0.8612])),\n",
              " (Category tensor(1), tensor(1), tensor([0.0084, 0.9916])),\n",
              " (Category tensor(0), tensor(0), tensor([0.9544, 0.0456])),\n",
              " (Category tensor(0), tensor(0), tensor([9.9999e-01, 1.2134e-05])),\n",
              " (Category tensor(0), tensor(0), tensor([1.0000e+00, 3.0101e-06])),\n",
              " (Category tensor(0), tensor(0), tensor([9.9999e-01, 8.9345e-06])),\n",
              " (Category tensor(0), tensor(0), tensor([1.0000e+00, 1.7469e-08])),\n",
              " (Category tensor(0), tensor(0), tensor([1.0000e+00, 7.8518e-07])),\n",
              " (Category tensor(0), tensor(0), tensor([1.0000e+00, 1.5497e-07])),\n",
              " (Category tensor(0), tensor(0), tensor([0.9987, 0.0013])),\n",
              " (Category tensor(0), tensor(0), tensor([0.9797, 0.0203])),\n",
              " (Category tensor(0), tensor(0), tensor([9.9978e-01, 2.2375e-04])),\n",
              " (Category tensor(0), tensor(0), tensor([1.0000e+00, 2.7001e-08])),\n",
              " (Category tensor(0), tensor(0), tensor([1.0000e+00, 2.7032e-13])),\n",
              " (Category tensor(0), tensor(0), tensor([1.0000e+00, 1.0189e-13])),\n",
              " (Category tensor(0), tensor(0), tensor([1.0000e+00, 1.3903e-16])),\n",
              " (Category tensor(0), tensor(0), tensor([1.0000e+00, 1.0922e-16])),\n",
              " (Category tensor(0), tensor(0), tensor([1.0000e+00, 4.6269e-21])),\n",
              " (Category tensor(0), tensor(0), tensor([1.0000e+00, 3.5262e-19])),\n",
              " (Category tensor(0), tensor(0), tensor([1.0000e+00, 8.7155e-20])),\n",
              " (Category tensor(0), tensor(0), tensor([1.0000e+00, 2.0445e-21])),\n",
              " (Category tensor(0), tensor(0), tensor([1.0000e+00, 9.4235e-22])),\n",
              " (Category tensor(0), tensor(0), tensor([1.0000e+00, 2.6739e-22])),\n",
              " (Category tensor(0), tensor(0), tensor([1.0000e+00, 3.9455e-17])),\n",
              " (Category tensor(0), tensor(0), tensor([1.0000e+00, 1.0266e-16])),\n",
              " (Category tensor(0), tensor(0), tensor([1.0000e+00, 2.3028e-10])),\n",
              " (Category tensor(0), tensor(0), tensor([1.0000e+00, 5.1087e-11])),\n",
              " (Category tensor(0), tensor(0), tensor([1.0000e+00, 1.0626e-10])),\n",
              " (Category tensor(0), tensor(0), tensor([1.0000e+00, 4.9550e-07])),\n",
              " (Category tensor(0), tensor(0), tensor([1.0000e+00, 3.3832e-06])),\n",
              " (Category tensor(0), tensor(0), tensor([0.9973, 0.0027])),\n",
              " (Category tensor(0), tensor(0), tensor([0.9981, 0.0019])),\n",
              " (Category tensor(0), tensor(0), tensor([9.9998e-01, 1.6807e-05])),\n",
              " (Category tensor(0), tensor(0), tensor([0.7284, 0.2716])),\n",
              " (Category tensor(0), tensor(0), tensor([0.9667, 0.0333])),\n",
              " (Category tensor(0), tensor(0), tensor([0.8053, 0.1947])),\n",
              " (Category tensor(0), tensor(0), tensor([0.9985, 0.0015])),\n",
              " (Category tensor(0), tensor(0), tensor([9.9997e-01, 2.6102e-05])),\n",
              " (Category tensor(0), tensor(0), tensor([1.0000e+00, 3.0035e-07])),\n",
              " (Category tensor(0), tensor(0), tensor([1.0000e+00, 6.4858e-08])),\n",
              " (Category tensor(0), tensor(0), tensor([0.6207, 0.3793])),\n",
              " (Category tensor(1), tensor(1), tensor([0.0096, 0.9904])),\n",
              " (Category tensor(1), tensor(1), tensor([0.0017, 0.9983])),\n",
              " (Category tensor(1), tensor(1), tensor([6.6419e-04, 9.9934e-01])),\n",
              " (Category tensor(1), tensor(1), tensor([1.2195e-06, 1.0000e+00])),\n",
              " (Category tensor(1), tensor(1), tensor([1.5378e-08, 1.0000e+00])),\n",
              " (Category tensor(1), tensor(1), tensor([6.6836e-09, 1.0000e+00])),\n",
              " (Category tensor(1), tensor(1), tensor([2.6226e-08, 1.0000e+00])),\n",
              " (Category tensor(1), tensor(1), tensor([2.4634e-07, 1.0000e+00])),\n",
              " (Category tensor(1), tensor(1), tensor([3.4568e-07, 1.0000e+00])),\n",
              " (Category tensor(1), tensor(1), tensor([4.3034e-08, 1.0000e+00])),\n",
              " (Category tensor(1), tensor(1), tensor([2.2260e-08, 1.0000e+00])),\n",
              " (Category tensor(1), tensor(1), tensor([1.3474e-08, 1.0000e+00])),\n",
              " (Category tensor(1), tensor(1), tensor([4.5475e-08, 1.0000e+00])),\n",
              " (Category tensor(1), tensor(1), tensor([4.6129e-08, 1.0000e+00])),\n",
              " (Category tensor(1), tensor(1), tensor([1.4713e-08, 1.0000e+00])),\n",
              " (Category tensor(1), tensor(1), tensor([1.2174e-08, 1.0000e+00])),\n",
              " (Category tensor(1), tensor(1), tensor([3.0295e-07, 1.0000e+00])),\n",
              " (Category tensor(1), tensor(1), tensor([2.8050e-07, 1.0000e+00])),\n",
              " (Category tensor(1), tensor(1), tensor([1.0310e-08, 1.0000e+00])),\n",
              " (Category tensor(1), tensor(1), tensor([4.2785e-09, 1.0000e+00])),\n",
              " (Category tensor(1), tensor(1), tensor([3.8030e-10, 1.0000e+00])),\n",
              " (Category tensor(1), tensor(1), tensor([1.7207e-09, 1.0000e+00])),\n",
              " (Category tensor(1), tensor(1), tensor([4.2375e-10, 1.0000e+00])),\n",
              " (Category tensor(1), tensor(1), tensor([1.0740e-09, 1.0000e+00])),\n",
              " (Category tensor(1), tensor(1), tensor([8.0382e-10, 1.0000e+00])),\n",
              " (Category tensor(1), tensor(1), tensor([1.5756e-10, 1.0000e+00])),\n",
              " (Category tensor(1), tensor(1), tensor([5.6059e-11, 1.0000e+00])),\n",
              " (Category tensor(1), tensor(1), tensor([8.9161e-11, 1.0000e+00])),\n",
              " (Category tensor(1), tensor(1), tensor([6.0277e-09, 1.0000e+00])),\n",
              " (Category tensor(1), tensor(1), tensor([4.3389e-08, 1.0000e+00])),\n",
              " (Category tensor(1), tensor(1), tensor([9.7272e-06, 9.9999e-01])),\n",
              " (Category tensor(1), tensor(1), tensor([8.5844e-04, 9.9914e-01])),\n",
              " (Category tensor(1), tensor(1), tensor([0.1745, 0.8255])),\n",
              " (Category tensor(1), tensor(1), tensor([0.0538, 0.9462])),\n",
              " (Category tensor(0), tensor(0), tensor([0.8881, 0.1119])),\n",
              " (Category tensor(0), tensor(0), tensor([9.9990e-01, 1.0319e-04])),\n",
              " (Category tensor(0), tensor(0), tensor([1.0000e+00, 7.6535e-08])),\n",
              " (Category tensor(0), tensor(0), tensor([9.9978e-01, 2.1705e-04])),\n",
              " (Category tensor(0), tensor(0), tensor([0.9988, 0.0012])),\n",
              " (Category tensor(0), tensor(0), tensor([1.0000e+00, 5.6122e-08])),\n",
              " (Category tensor(0), tensor(0), tensor([1.0000e+00, 3.7712e-08])),\n",
              " (Category tensor(0), tensor(0), tensor([1.0000e+00, 2.6906e-09])),\n",
              " (Category tensor(0), tensor(0), tensor([1.0000e+00, 1.0339e-12])),\n",
              " (Category tensor(0), tensor(0), tensor([1.0000e+00, 4.4742e-10])),\n",
              " (Category tensor(0), tensor(0), tensor([1.0000e+00, 8.5949e-16])),\n",
              " (Category tensor(0), tensor(0), tensor([1.0000e+00, 1.3320e-10])),\n",
              " (Category tensor(0), tensor(0), tensor([1.0000e+00, 8.4349e-14])),\n",
              " (Category tensor(0), tensor(0), tensor([1.0000e+00, 2.0842e-12])),\n",
              " (Category tensor(0), tensor(0), tensor([1.0000e+00, 2.1574e-08])),\n",
              " (Category tensor(0), tensor(0), tensor([1.0000e+00, 5.5081e-08])),\n",
              " (Category tensor(0), tensor(0), tensor([1.0000e+00, 1.1851e-08])),\n",
              " (Category tensor(0), tensor(0), tensor([1.0000e+00, 1.0237e-09])),\n",
              " (Category tensor(0), tensor(0), tensor([1.0000e+00, 1.9222e-10])),\n",
              " (Category tensor(0), tensor(0), tensor([1.0000e+00, 6.3548e-12])),\n",
              " (Category tensor(0), tensor(0), tensor([1.0000e+00, 2.0029e-14])),\n",
              " (Category tensor(0), tensor(0), tensor([1.0000e+00, 4.9746e-13])),\n",
              " (Category tensor(0), tensor(0), tensor([1.0000e+00, 1.3281e-11])),\n",
              " (Category tensor(0), tensor(0), tensor([1.0000e+00, 1.0582e-11])),\n",
              " (Category tensor(0), tensor(0), tensor([1.0000e+00, 2.5068e-10])),\n",
              " (Category tensor(0), tensor(0), tensor([1.0000e+00, 1.0641e-10])),\n",
              " (Category tensor(0), tensor(0), tensor([1.0000e+00, 9.4902e-07])),\n",
              " (Category tensor(0), tensor(0), tensor([0.9990, 0.0010])),\n",
              " (Category tensor(0), tensor(0), tensor([1.0000e+00, 7.2710e-08])),\n",
              " (Category tensor(0), tensor(0), tensor([9.9995e-01, 5.4675e-05])),\n",
              " (Category tensor(0), tensor(0), tensor([0.9862, 0.0138])),\n",
              " (Category tensor(0), tensor(0), tensor([0.9963, 0.0037])),\n",
              " (Category tensor(1), tensor(1), tensor([0.4642, 0.5358])),\n",
              " (Category tensor(0), tensor(0), tensor([0.9811, 0.0189])),\n",
              " (Category tensor(1), tensor(1), tensor([0.2157, 0.7843])),\n",
              " (Category tensor(0), tensor(0), tensor([0.9874, 0.0126])),\n",
              " (Category tensor(0), tensor(0), tensor([0.6965, 0.3035])),\n",
              " (Category tensor(1), tensor(1), tensor([0.1231, 0.8769])),\n",
              " (Category tensor(1), tensor(1), tensor([0.0190, 0.9810])),\n",
              " (Category tensor(1), tensor(1), tensor([6.9424e-07, 1.0000e+00])),\n",
              " (Category tensor(1), tensor(1), tensor([6.4600e-08, 1.0000e+00])),\n",
              " (Category tensor(1), tensor(1), tensor([2.9287e-10, 1.0000e+00])),\n",
              " (Category tensor(1), tensor(1), tensor([8.4046e-10, 1.0000e+00])),\n",
              " (Category tensor(1), tensor(1), tensor([1.0397e-07, 1.0000e+00])),\n",
              " (Category tensor(1), tensor(1), tensor([4.0519e-08, 1.0000e+00])),\n",
              " (Category tensor(1), tensor(1), tensor([2.0778e-07, 1.0000e+00])),\n",
              " (Category tensor(1), tensor(1), tensor([1.0300e-07, 1.0000e+00])),\n",
              " (Category tensor(1), tensor(1), tensor([3.5202e-08, 1.0000e+00])),\n",
              " (Category tensor(1), tensor(1), tensor([2.8659e-08, 1.0000e+00])),\n",
              " (Category tensor(1), tensor(1), tensor([5.8092e-10, 1.0000e+00])),\n",
              " (Category tensor(1), tensor(1), tensor([8.0453e-11, 1.0000e+00])),\n",
              " (Category tensor(1), tensor(1), tensor([2.6801e-10, 1.0000e+00])),\n",
              " (Category tensor(1), tensor(1), tensor([4.5660e-10, 1.0000e+00])),\n",
              " (Category tensor(1), tensor(1), tensor([6.2132e-10, 1.0000e+00])),\n",
              " (Category tensor(1), tensor(1), tensor([1.3118e-10, 1.0000e+00])),\n",
              " (Category tensor(1), tensor(1), tensor([4.7173e-10, 1.0000e+00])),\n",
              " (Category tensor(1), tensor(1), tensor([1.5103e-10, 1.0000e+00])),\n",
              " (Category tensor(1), tensor(1), tensor([1.1353e-10, 1.0000e+00])),\n",
              " (Category tensor(1), tensor(1), tensor([2.5405e-10, 1.0000e+00])),\n",
              " (Category tensor(1), tensor(1), tensor([3.1930e-10, 1.0000e+00])),\n",
              " (Category tensor(1), tensor(1), tensor([1.4458e-10, 1.0000e+00])),\n",
              " (Category tensor(1), tensor(1), tensor([1.9946e-11, 1.0000e+00])),\n",
              " (Category tensor(1), tensor(1), tensor([3.4401e-11, 1.0000e+00])),\n",
              " (Category tensor(1), tensor(1), tensor([2.4509e-11, 1.0000e+00])),\n",
              " (Category tensor(1), tensor(1), tensor([4.4220e-11, 1.0000e+00])),\n",
              " (Category tensor(1), tensor(1), tensor([9.6781e-12, 1.0000e+00])),\n",
              " (Category tensor(1), tensor(1), tensor([5.3290e-11, 1.0000e+00])),\n",
              " (Category tensor(1), tensor(1), tensor([1.4758e-10, 1.0000e+00])),\n",
              " (Category tensor(1), tensor(1), tensor([1.7133e-10, 1.0000e+00])),\n",
              " (Category tensor(1), tensor(1), tensor([3.0165e-10, 1.0000e+00])),\n",
              " (Category tensor(1), tensor(1), tensor([1.9085e-09, 1.0000e+00])),\n",
              " (Category tensor(1), tensor(1), tensor([1.4319e-09, 1.0000e+00])),\n",
              " (Category tensor(1), tensor(1), tensor([4.2367e-10, 1.0000e+00])),\n",
              " (Category tensor(1), tensor(1), tensor([2.9134e-10, 1.0000e+00])),\n",
              " (Category tensor(1), tensor(1), tensor([8.9792e-11, 1.0000e+00])),\n",
              " (Category tensor(1), tensor(1), tensor([5.9073e-11, 1.0000e+00])),\n",
              " (Category tensor(1), tensor(1), tensor([1.4816e-10, 1.0000e+00])),\n",
              " (Category tensor(1), tensor(1), tensor([7.3720e-11, 1.0000e+00])),\n",
              " (Category tensor(1), tensor(1), tensor([2.6300e-10, 1.0000e+00])),\n",
              " (Category tensor(1), tensor(1), tensor([1.0670e-10, 1.0000e+00])),\n",
              " (Category tensor(1), tensor(1), tensor([1.2491e-10, 1.0000e+00])),\n",
              " (Category tensor(1), tensor(1), tensor([7.0582e-08, 1.0000e+00])),\n",
              " (Category tensor(1), tensor(1), tensor([2.6432e-06, 1.0000e+00])),\n",
              " (Category tensor(1), tensor(1), tensor([5.2095e-05, 9.9995e-01])),\n",
              " (Category tensor(1), tensor(1), tensor([0.0449, 0.9551])),\n",
              " (Category tensor(1), tensor(1), tensor([0.0498, 0.9502])),\n",
              " (Category tensor(1), tensor(1), tensor([0.4942, 0.5058])),\n",
              " (Category tensor(0), tensor(0), tensor([0.9425, 0.0575])),\n",
              " (Category tensor(0), tensor(0), tensor([1.0000e+00, 7.0061e-08])),\n",
              " (Category tensor(0), tensor(0), tensor([1.0000e+00, 3.9915e-11])),\n",
              " (Category tensor(0), tensor(0), tensor([9.9998e-01, 2.4716e-05])),\n",
              " (Category tensor(0), tensor(0), tensor([9.9982e-01, 1.8406e-04])),\n",
              " (Category tensor(0), tensor(0), tensor([1.0000e+00, 5.9010e-07])),\n",
              " (Category tensor(0), tensor(0), tensor([1.0000e+00, 8.6002e-07])),\n",
              " (Category tensor(0), tensor(0), tensor([1.0000e+00, 1.9839e-08])),\n",
              " (Category tensor(0), tensor(0), tensor([1.0000e+00, 3.1575e-11])),\n",
              " (Category tensor(0), tensor(0), tensor([1.0000e+00, 1.1984e-13])),\n",
              " (Category tensor(0), tensor(0), tensor([1.0000e+00, 4.3581e-12])),\n",
              " (Category tensor(0), tensor(0), tensor([1.0000e+00, 7.1442e-12])),\n",
              " (Category tensor(0), tensor(0), tensor([1.0000e+00, 2.7218e-12])),\n",
              " (Category tensor(0), tensor(0), tensor([1.0000e+00, 1.2005e-12])),\n",
              " (Category tensor(0), tensor(0), tensor([1.0000e+00, 1.5857e-12])),\n",
              " (Category tensor(0), tensor(0), tensor([1.0000e+00, 1.2471e-10])),\n",
              " (Category tensor(0), tensor(0), tensor([1.0000e+00, 5.7170e-10])),\n",
              " (Category tensor(0), tensor(0), tensor([1.0000e+00, 8.9586e-10])),\n",
              " (Category tensor(0), tensor(0), tensor([1.0000e+00, 4.1711e-09])),\n",
              " (Category tensor(0), tensor(0), tensor([1.0000e+00, 1.5858e-11])),\n",
              " (Category tensor(0), tensor(0), tensor([1.0000e+00, 5.0744e-13])),\n",
              " (Category tensor(0), tensor(0), tensor([1.0000e+00, 6.0732e-11])),\n",
              " (Category tensor(0), tensor(0), tensor([1.0000e+00, 1.7871e-12])),\n",
              " (Category tensor(0), tensor(0), tensor([1.0000e+00, 1.0305e-11])),\n",
              " (Category tensor(0), tensor(0), tensor([1.0000e+00, 5.7814e-11])),\n",
              " (Category tensor(0), tensor(0), tensor([1.0000e+00, 3.7414e-10])),\n",
              " (Category tensor(0), tensor(0), tensor([1.0000e+00, 8.8232e-12])),\n",
              " (Category tensor(0), tensor(0), tensor([1.0000e+00, 8.9547e-12])),\n",
              " (Category tensor(0), tensor(0), tensor([1.0000e+00, 1.9609e-11])),\n",
              " (Category tensor(0), tensor(0), tensor([1.0000e+00, 8.0841e-12])),\n",
              " (Category tensor(0), tensor(0), tensor([1.0000e+00, 4.6135e-11])),\n",
              " (Category tensor(0), tensor(0), tensor([1.0000e+00, 2.2650e-10])),\n",
              " (Category tensor(0), tensor(0), tensor([1.0000e+00, 3.4542e-10])),\n",
              " (Category tensor(0), tensor(0), tensor([1.0000e+00, 1.1988e-10])),\n",
              " (Category tensor(0), tensor(0), tensor([1.0000e+00, 1.6068e-11])),\n",
              " (Category tensor(0), tensor(0), tensor([1.0000e+00, 6.4801e-11])),\n",
              " (Category tensor(0), tensor(0), tensor([1.0000e+00, 8.6427e-12])),\n",
              " (Category tensor(0), tensor(0), tensor([1.0000e+00, 2.5612e-12])),\n",
              " (Category tensor(0), tensor(0), tensor([1.0000e+00, 2.1172e-09])),\n",
              " (Category tensor(0), tensor(0), tensor([1.0000e+00, 2.1207e-08])),\n",
              " (Category tensor(0), tensor(0), tensor([1.0000e+00, 1.7600e-08])),\n",
              " (Category tensor(0), tensor(0), tensor([1.0000e+00, 9.0934e-08])),\n",
              " (Category tensor(0), tensor(0), tensor([1.0000e+00, 2.5496e-07])),\n",
              " (Category tensor(0), tensor(0), tensor([1.0000e+00, 3.0206e-06])),\n",
              " (Category tensor(0), tensor(0), tensor([1.0000e+00, 6.2311e-09])),\n",
              " (Category tensor(0), tensor(0), tensor([1.0000e+00, 2.1626e-07])),\n",
              " (Category tensor(0), tensor(0), tensor([1.0000e+00, 6.3145e-08])),\n",
              " (Category tensor(0), tensor(0), tensor([1.0000e+00, 6.8043e-09])),\n",
              " (Category tensor(0), tensor(0), tensor([1.0000e+00, 3.2629e-10])),\n",
              " (Category tensor(0), tensor(0), tensor([1.0000e+00, 6.4246e-15])),\n",
              " (Category tensor(0), tensor(0), tensor([1.0000e+00, 6.4156e-16])),\n",
              " (Category tensor(0), tensor(0), tensor([1.0000e+00, 4.3986e-15])),\n",
              " (Category tensor(0), tensor(0), tensor([1.0000e+00, 9.8064e-14])),\n",
              " (Category tensor(0), tensor(0), tensor([1.0000e+00, 2.0941e-11])),\n",
              " (Category tensor(0), tensor(0), tensor([1.0000e+00, 1.2933e-15])),\n",
              " (Category tensor(0), tensor(0), tensor([1.0000e+00, 2.7493e-08])),\n",
              " (Category tensor(0), tensor(0), tensor([1.0000e+00, 9.9162e-13])),\n",
              " (Category tensor(0), tensor(0), tensor([1.0000e+00, 2.3114e-08])),\n",
              " (Category tensor(0), tensor(0), tensor([1.0000e+00, 2.4624e-06])),\n",
              " (Category tensor(0), tensor(0), tensor([9.9999e-01, 1.1538e-05])),\n",
              " (Category tensor(0), tensor(0), tensor([9.9915e-01, 8.5132e-04])),\n",
              " (Category tensor(0), tensor(0), tensor([0.9988, 0.0012])),\n",
              " (Category tensor(0), tensor(0), tensor([0.8249, 0.1751])),\n",
              " (Category tensor(0), tensor(0), tensor([0.7499, 0.2501])),\n",
              " (Category tensor(1), tensor(1), tensor([0.2341, 0.7659])),\n",
              " (Category tensor(0), tensor(0), tensor([9.9996e-01, 3.6426e-05])),\n",
              " (Category tensor(0), tensor(0), tensor([9.9997e-01, 3.1740e-05])),\n",
              " (Category tensor(0), tensor(0), tensor([0.9970, 0.0030])),\n",
              " (Category tensor(1), tensor(1), tensor([0.0337, 0.9663])),\n",
              " (Category tensor(1), tensor(1), tensor([0.0144, 0.9856])),\n",
              " (Category tensor(1), tensor(1), tensor([0.0018, 0.9982])),\n",
              " (Category tensor(1), tensor(1), tensor([0.0138, 0.9862])),\n",
              " (Category tensor(1), tensor(1), tensor([3.6475e-07, 1.0000e+00])),\n",
              " (Category tensor(1), tensor(1), tensor([5.9629e-09, 1.0000e+00])),\n",
              " (Category tensor(1), tensor(1), tensor([5.5650e-10, 1.0000e+00])),\n",
              " (Category tensor(1), tensor(1), tensor([4.5690e-09, 1.0000e+00])),\n",
              " (Category tensor(1), tensor(1), tensor([1.2255e-08, 1.0000e+00])),\n",
              " (Category tensor(1), tensor(1), tensor([1.8264e-08, 1.0000e+00])),\n",
              " (Category tensor(1), tensor(1), tensor([2.6682e-09, 1.0000e+00])),\n",
              " (Category tensor(1), tensor(1), tensor([1.3893e-10, 1.0000e+00])),\n",
              " (Category tensor(1), tensor(1), tensor([3.3098e-11, 1.0000e+00])),\n",
              " (Category tensor(1), tensor(1), tensor([1.0941e-12, 1.0000e+00])),\n",
              " (Category tensor(1), tensor(1), tensor([6.1304e-12, 1.0000e+00])),\n",
              " (Category tensor(1), tensor(1), tensor([2.3252e-09, 1.0000e+00])),\n",
              " (Category tensor(1), tensor(1), tensor([1.3238e-10, 1.0000e+00])),\n",
              " (Category tensor(1), tensor(1), tensor([1.5772e-12, 1.0000e+00])),\n",
              " (Category tensor(1), tensor(1), tensor([3.3537e-08, 1.0000e+00])),\n",
              " (Category tensor(1), tensor(1), tensor([4.5097e-05, 9.9995e-01])),\n",
              " (Category tensor(1), tensor(1), tensor([7.1865e-05, 9.9993e-01])),\n",
              " (Category tensor(1), tensor(1), tensor([2.4367e-05, 9.9998e-01])),\n",
              " (Category tensor(1), tensor(1), tensor([0.0169, 0.9831])),\n",
              " (Category tensor(1), tensor(1), tensor([1.6959e-04, 9.9983e-01])),\n",
              " (Category tensor(1), tensor(1), tensor([0.3448, 0.6552])),\n",
              " (Category tensor(1), tensor(1), tensor([0.0019, 0.9981])),\n",
              " (Category tensor(1), tensor(1), tensor([6.7385e-04, 9.9933e-01])),\n",
              " (Category tensor(1), tensor(1), tensor([0.0782, 0.9218])),\n",
              " (Category tensor(1), tensor(1), tensor([0.0861, 0.9139])),\n",
              " (Category tensor(1), tensor(1), tensor([0.2292, 0.7708])),\n",
              " (Category tensor(1), tensor(1), tensor([4.0184e-04, 9.9960e-01])),\n",
              " (Category tensor(1), tensor(1), tensor([2.1399e-10, 1.0000e+00])),\n",
              " (Category tensor(1), tensor(1), tensor([1.2508e-04, 9.9987e-01])),\n",
              " (Category tensor(1), tensor(1), tensor([4.1668e-05, 9.9996e-01])),\n",
              " (Category tensor(1), tensor(1), tensor([3.7559e-06, 1.0000e+00])),\n",
              " (Category tensor(1), tensor(1), tensor([8.2396e-06, 9.9999e-01])),\n",
              " (Category tensor(1), tensor(1), tensor([4.0964e-04, 9.9959e-01])),\n",
              " (Category tensor(0), tensor(0), tensor([0.9561, 0.0439])),\n",
              " (Category tensor(1), tensor(1), tensor([0.0685, 0.9315])),\n",
              " (Category tensor(0), tensor(0), tensor([9.9999e-01, 5.1057e-06])),\n",
              " (Category tensor(0), tensor(0), tensor([1.0000e+00, 1.2059e-07])),\n",
              " (Category tensor(0), tensor(0), tensor([1.0000e+00, 1.6075e-06])),\n",
              " (Category tensor(0), tensor(0), tensor([0.9967, 0.0033])),\n",
              " (Category tensor(0), tensor(0), tensor([9.9994e-01, 5.9349e-05])),\n",
              " (Category tensor(0), tensor(0), tensor([1.0000e+00, 2.1962e-06])),\n",
              " (Category tensor(0), tensor(0), tensor([0.9699, 0.0301])),\n",
              " (Category tensor(0), tensor(0), tensor([0.9967, 0.0033])),\n",
              " (Category tensor(0), tensor(0), tensor([0.9235, 0.0765])),\n",
              " (Category tensor(1), tensor(1), tensor([0.3696, 0.6304])),\n",
              " (Category tensor(0), tensor(0), tensor([9.9996e-01, 4.2674e-05])),\n",
              " (Category tensor(0), tensor(0), tensor([0.9770, 0.0230]))]"
            ]
          },
          "metadata": {
            "tags": []
          },
          "execution_count": 84
        }
      ]
    },
    {
      "cell_type": "code",
      "metadata": {
        "id": "OOEF9iS45g_N",
        "colab": {
          "base_uri": "https://localhost:8080/",
          "height": 282
        },
        "outputId": "fb1648c6-5a8d-478e-db26-77335f0dac4e"
      },
      "source": [
        "x = range(len(lis))\n",
        "y = [((-1)**(int(lis[i][0])+1)) for i in range(len(lis))]\n",
        "\n",
        "plt.plot(x,y,'or')\n",
        "\n",
        "# Graph with prediction"
      ],
      "execution_count": 85,
      "outputs": [
        {
          "output_type": "execute_result",
          "data": {
            "text/plain": [
              "[<matplotlib.lines.Line2D at 0x7f7fd1dd9518>]"
            ]
          },
          "metadata": {
            "tags": []
          },
          "execution_count": 85
        },
        {
          "output_type": "display_data",
          "data": {
            "image/png": "[encoded data removed]",
            "text/plain": [
              "<Figure size 432x288 with 1 Axes>"
            ]
          },
          "metadata": {
            "tags": [],
            "needs_background": "light"
          }
        }
      ]
    },
    {
      "cell_type": "code",
      "metadata": {
        "id": "BHh6gZQ45AxC",
        "colab": {
          "base_uri": "https://localhost:8080/",
          "height": 282
        },
        "outputId": "72e45259-6347-48c1-aa3b-612e28590dec"
      },
      "source": [
        "x = range(len(lis))\n",
        "y = [float(lis[i][2][1]) for i in range(len(lis))]\n",
        "plt.plot(x,y)\n",
        "\n",
        "# Graph with probability"
      ],
      "execution_count": 86,
      "outputs": [
        {
          "output_type": "execute_result",
          "data": {
            "text/plain": [
              "[<matplotlib.lines.Line2D at 0x7f7fd2e717b8>]"
            ]
          },
          "metadata": {
            "tags": []
          },
          "execution_count": 86
        },
        {
          "output_type": "display_data",
          "data": {
            "image/png": "[encoded data removed]",
            "text/plain": [
              "<Figure size 432x288 with 1 Axes>"
            ]
          },
          "metadata": {
            "tags": [],
            "needs_background": "light"
          }
        }
      ]
    },
    {
      "cell_type": "code",
      "metadata": {
        "colab": {
          "base_uri": "https://localhost:8080/",
          "height": 282
        },
        "id": "StC6eU_KrEZW",
        "outputId": "5891eb3d-c922-46de-f2c8-48d0041f9682"
      },
      "source": [
        "x = range(len(lis)-10)\n",
        "y = [float(lis[i][2][1]) for i in range(len(lis))]\n",
        "\n",
        "y = [sum(y[i:i+10])/10 for i in range(len(lis)-10)]\n",
        "plt.plot(x,y)\n",
        "\n",
        "# Refined Graph with arithmetical average method.\n",
        "# It eliminates misidentified frames."
      ],
      "execution_count": 87,
      "outputs": [
        {
          "output_type": "execute_result",
          "data": {
            "text/plain": [
              "[<matplotlib.lines.Line2D at 0x7f7fd0129860>]"
            ]
          },
          "metadata": {
            "tags": []
          },
          "execution_count": 87
        },
        {
          "output_type": "display_data",
          "data": {
            "image/png": "[encoded data removed]",
            "text/plain": [
              "<Figure size 432x288 with 1 Axes>"
            ]
          },
          "metadata": {
            "tags": [],
            "needs_background": "light"
          }
        }
      ]
    },
    {
      "cell_type": "code",
      "metadata": {
        "colab": {
          "base_uri": "https://localhost:8080/"
        },
        "id": "U_6UlBI3sjjB",
        "outputId": "2c7c6c19-d188-4e70-e332-ffbbe6371b72"
      },
      "source": [
        "cot=0\n",
        "a=[]\n",
        "for i in range(len(y)):\n",
        "  if y[i]<0.1:\n",
        "    a.append(1)\n",
        "  else : a.append(0)\n",
        "\n",
        "for i in range(len(a)-10):\n",
        "  if a[i+1:i+10].count(1)==9 and a[i]==0:\n",
        "    cot +=1\n",
        "    print(cot)\n",
        "\n",
        "# Count the number of exercising."
      ],
      "execution_count": 88,
      "outputs": [
        {
          "output_type": "stream",
          "text": [
            "1\n",
            "2\n",
            "3\n",
            "4\n",
            "5\n",
            "6\n"
          ],
          "name": "stdout"
        }
      ]
    },
    {
      "cell_type": "code",
      "metadata": {
        "colab": {
          "base_uri": "https://localhost:8080/"
        },
        "id": "V9M5MHuG1So0",
        "outputId": "7331dc47-3a32-49ef-c371-82fc297ccef5"
      },
      "source": [
        "ulis=[]\n",
        "dlis=[]\n",
        "for i in range(len(a)-10):\n",
        "  if a[i+5:i+10].count(1)==5 and a[i:i+5].count(1)==0 :\n",
        "    dlis.append(i)\n",
        "  if a[i+5:i+10].count(1)==0 and a[i:i+5].count(1)==5 :\n",
        "    ulis.append(i)\n",
        "dlis, ulis\n",
        "\n",
        "# Specify the frames which goes down(dlis) and up(ulis)."
      ],
      "execution_count": 89,
      "outputs": [
        {
          "output_type": "execute_result",
          "data": {
            "text/plain": [
              "([122, 193, 244, 348, 421, 507], [151, 211, 304, 378, 446, 563])"
            ]
          },
          "metadata": {
            "tags": []
          },
          "execution_count": 89
        }
      ]
    },
    {
      "cell_type": "code",
      "metadata": {
        "colab": {
          "base_uri": "https://localhost:8080/"
        },
        "id": "oGzl3vdh3RE_",
        "outputId": "92d96718-f563-4f2b-a237-44a2d8959f03"
      },
      "source": [
        "arr=[]\n",
        "t=0\n",
        "for i in range(cot):\n",
        "  rate = (ulis[i]-dlis[i])/30\n",
        "  arr.append(rate)\n",
        "  print('%d st rating : %0.2f sec'%(i+1,rate))\n",
        "  t += rate\n",
        "m_arr = np.mean(arr)\n",
        "s_arr = np.std(arr)\n",
        "print('\\nExercise time : %0.2f'%t)\n",
        "print('Average rate : %0.2f'%m_arr)\n",
        "if s_arr > 0.1 : print('\\nThe rate is irregular.')\n",
        "if m_arr < 1.5 : print('The average rate is short, %0.1f sec. Try to get closer to two seconds.'%m_arr)\n",
        "elif m_arr > 2.5 : print('The average rate is long, %0.1f sec. Try to get closer to two seconds.'%m_arr)\n",
        "else : print('\\nWell done!')\n",
        "\n",
        "# Final Results.\n",
        "# \"s_arr\" is standard of rate and \"m_arr\" is mean of rate."
      ],
      "execution_count": 100,
      "outputs": [
        {
          "output_type": "stream",
          "text": [
            "1 st rating : 0.97 sec\n",
            "2 st rating : 0.60 sec\n",
            "3 st rating : 2.00 sec\n",
            "4 st rating : 1.00 sec\n",
            "5 st rating : 0.83 sec\n",
            "6 st rating : 1.87 sec\n",
            "\n",
            "Exercise time : 7.27\n",
            "Average rate : 1.21\n",
            "\n",
            "The rate is irregular.\n",
            "The average rate is short, 1.2 sec. Try to get closer to two seconds.\n"
          ],
          "name": "stdout"
        }
      ]
    }
  ]
}